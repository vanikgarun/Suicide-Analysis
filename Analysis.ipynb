{
 "cells": [
  {
   "cell_type": "code",
   "execution_count": 57,
   "metadata": {
    "ExecuteTime": {
     "end_time": "2021-08-21T12:11:56.688933Z",
     "start_time": "2021-08-21T12:11:56.675203Z"
    }
   },
   "outputs": [],
   "source": [
    "import numpy as np\n",
    "import pandas as pd \n",
    "import seaborn as sns\n",
    "import matplotlib.pyplot as plt\n",
    "import warnings\n",
    "warnings.filterwarnings(\"ignore\")"
   ]
  },
  {
   "cell_type": "code",
   "execution_count": 58,
   "metadata": {
    "ExecuteTime": {
     "end_time": "2021-08-21T12:11:56.864353Z",
     "start_time": "2021-08-21T12:11:56.692933Z"
    }
   },
   "outputs": [],
   "source": [
    "master = pd.read_excel(\"Suicide_Master_data_with_otherinfo.xlsx\",index_col=\"State_UT\")"
   ]
  },
  {
   "cell_type": "code",
   "execution_count": 59,
   "metadata": {
    "ExecuteTime": {
     "end_time": "2021-08-21T12:11:56.879883Z",
     "start_time": "2021-08-21T12:11:56.870359Z"
    }
   },
   "outputs": [
    {
     "data": {
      "text/plain": [
       "(36, 25)"
      ]
     },
     "execution_count": 59,
     "metadata": {},
     "output_type": "execute_result"
    }
   ],
   "source": [
    "master.shape"
   ]
  },
  {
   "cell_type": "code",
   "execution_count": 60,
   "metadata": {
    "ExecuteTime": {
     "end_time": "2021-08-21T12:11:56.911039Z",
     "start_time": "2021-08-21T12:11:56.884133Z"
    }
   },
   "outputs": [
    {
     "name": "stdout",
     "output_type": "stream",
     "text": [
      "<class 'pandas.core.frame.DataFrame'>\n",
      "Index: 36 entries, ANDHRA PRADESH to PUDUCHERRY\n",
      "Data columns (total 25 columns):\n",
      " #   Column                         Non-Null Count  Dtype  \n",
      "---  ------                         --------------  -----  \n",
      " 0   Sl. No.                        36 non-null     int64  \n",
      " 1   Male_suicides                  36 non-null     int64  \n",
      " 2   Female_suicides                36 non-null     int64  \n",
      " 3   Transgender_suicides           36 non-null     int64  \n",
      " 4   Number_Suicides                36 non-null     int64  \n",
      " 5   Perc_share                     36 non-null     float64\n",
      " 6   Pop_in_Lakh                    36 non-null     float64\n",
      " 7   Male_suicide_rate              36 non-null     float64\n",
      " 8   Female_suicide_rate            36 non-null     float64\n",
      " 9   Suicide_Rate                   36 non-null     float64\n",
      " 10  Female_lit_rate                36 non-null     float64\n",
      " 11  Male_lit_rate                  36 non-null     float64\n",
      " 12  Total_lit_rate                 36 non-null     float64\n",
      " 13  Average_2019_Unemployment      27 non-null     float64\n",
      " 14  QoW_sedatives                  36 non-null     float64\n",
      " 15  QoW_Opioids                    36 non-null     float64\n",
      " 16  Ganja                          36 non-null     float64\n",
      " 17  Alcohol_total_perc             36 non-null     float64\n",
      " 18  Alcohol_men_perc               36 non-null     float64\n",
      " 19  Top10_alcoholics_needing_help  36 non-null     int64  \n",
      " 20  Percapita_NSDP_2019            33 non-null     float64\n",
      " 21  TFR_2017                       36 non-null     float64\n",
      " 22  Perc_BPL                       31 non-null     float64\n",
      " 23  Mean_Asset_Score_2016          30 non-null     float64\n",
      " 24  Gini_Coefficient_2016          30 non-null     float64\n",
      "dtypes: float64(19), int64(6)\n",
      "memory usage: 7.3+ KB\n"
     ]
    }
   ],
   "source": [
    "master.info()"
   ]
  },
  {
   "cell_type": "code",
   "execution_count": 61,
   "metadata": {
    "ExecuteTime": {
     "end_time": "2021-08-21T12:11:56.942703Z",
     "start_time": "2021-08-21T12:11:56.915632Z"
    }
   },
   "outputs": [
    {
     "data": {
      "text/plain": [
       "Sl. No.                          0\n",
       "Male_suicides                    0\n",
       "Female_suicides                  0\n",
       "Transgender_suicides             0\n",
       "Number_Suicides                  0\n",
       "Perc_share                       0\n",
       "Pop_in_Lakh                      0\n",
       "Male_suicide_rate                0\n",
       "Female_suicide_rate              0\n",
       "Suicide_Rate                     0\n",
       "Female_lit_rate                  0\n",
       "Male_lit_rate                    0\n",
       "Total_lit_rate                   0\n",
       "Average_2019_Unemployment        9\n",
       "QoW_sedatives                    0\n",
       "QoW_Opioids                      0\n",
       "Ganja                            0\n",
       "Alcohol_total_perc               0\n",
       "Alcohol_men_perc                 0\n",
       "Top10_alcoholics_needing_help    0\n",
       "Percapita_NSDP_2019              3\n",
       "TFR_2017                         0\n",
       "Perc_BPL                         5\n",
       "Mean_Asset_Score_2016            6\n",
       "Gini_Coefficient_2016            6\n",
       "dtype: int64"
      ]
     },
     "execution_count": 61,
     "metadata": {},
     "output_type": "execute_result"
    }
   ],
   "source": [
    "master.isnull().sum()"
   ]
  },
  {
   "cell_type": "code",
   "execution_count": 62,
   "metadata": {
    "ExecuteTime": {
     "end_time": "2021-08-21T12:11:57.038709Z",
     "start_time": "2021-08-21T12:11:56.946632Z"
    }
   },
   "outputs": [
    {
     "data": {
      "text/html": [
       "<div>\n",
       "<style scoped>\n",
       "    .dataframe tbody tr th:only-of-type {\n",
       "        vertical-align: middle;\n",
       "    }\n",
       "\n",
       "    .dataframe tbody tr th {\n",
       "        vertical-align: top;\n",
       "    }\n",
       "\n",
       "    .dataframe thead th {\n",
       "        text-align: right;\n",
       "    }\n",
       "</style>\n",
       "<table border=\"1\" class=\"dataframe\">\n",
       "  <thead>\n",
       "    <tr style=\"text-align: right;\">\n",
       "      <th></th>\n",
       "      <th>Sl. No.</th>\n",
       "      <th>Male_suicides</th>\n",
       "      <th>Female_suicides</th>\n",
       "      <th>Transgender_suicides</th>\n",
       "      <th>Number_Suicides</th>\n",
       "      <th>Perc_share</th>\n",
       "      <th>Pop_in_Lakh</th>\n",
       "      <th>Male_suicide_rate</th>\n",
       "      <th>Female_suicide_rate</th>\n",
       "      <th>Suicide_Rate</th>\n",
       "      <th>...</th>\n",
       "      <th>QoW_Opioids</th>\n",
       "      <th>Ganja</th>\n",
       "      <th>Alcohol_total_perc</th>\n",
       "      <th>Alcohol_men_perc</th>\n",
       "      <th>Top10_alcoholics_needing_help</th>\n",
       "      <th>Percapita_NSDP_2019</th>\n",
       "      <th>TFR_2017</th>\n",
       "      <th>Perc_BPL</th>\n",
       "      <th>Mean_Asset_Score_2016</th>\n",
       "      <th>Gini_Coefficient_2016</th>\n",
       "    </tr>\n",
       "    <tr>\n",
       "      <th>State_UT</th>\n",
       "      <th></th>\n",
       "      <th></th>\n",
       "      <th></th>\n",
       "      <th></th>\n",
       "      <th></th>\n",
       "      <th></th>\n",
       "      <th></th>\n",
       "      <th></th>\n",
       "      <th></th>\n",
       "      <th></th>\n",
       "      <th></th>\n",
       "      <th></th>\n",
       "      <th></th>\n",
       "      <th></th>\n",
       "      <th></th>\n",
       "      <th></th>\n",
       "      <th></th>\n",
       "      <th></th>\n",
       "      <th></th>\n",
       "      <th></th>\n",
       "      <th></th>\n",
       "    </tr>\n",
       "  </thead>\n",
       "  <tbody>\n",
       "    <tr>\n",
       "      <th>ANDHRA PRADESH</th>\n",
       "      <td>1</td>\n",
       "      <td>4740</td>\n",
       "      <td>1725</td>\n",
       "      <td>0</td>\n",
       "      <td>6465</td>\n",
       "      <td>4.6</td>\n",
       "      <td>523.2</td>\n",
       "      <td>9.059633</td>\n",
       "      <td>3.297018</td>\n",
       "      <td>12.4</td>\n",
       "      <td>...</td>\n",
       "      <td>0.8</td>\n",
       "      <td>0.2</td>\n",
       "      <td>26.5</td>\n",
       "      <td>13.7</td>\n",
       "      <td>8</td>\n",
       "      <td>113927.263123</td>\n",
       "      <td>1.6</td>\n",
       "      <td>9.2</td>\n",
       "      <td>0.357</td>\n",
       "      <td>0.270</td>\n",
       "    </tr>\n",
       "    <tr>\n",
       "      <th>ARUNACHAL PRADESH</th>\n",
       "      <td>2</td>\n",
       "      <td>81</td>\n",
       "      <td>31</td>\n",
       "      <td>0</td>\n",
       "      <td>112</td>\n",
       "      <td>0.1</td>\n",
       "      <td>15.1</td>\n",
       "      <td>5.364238</td>\n",
       "      <td>2.052980</td>\n",
       "      <td>7.4</td>\n",
       "      <td>...</td>\n",
       "      <td>5.7</td>\n",
       "      <td>4.2</td>\n",
       "      <td>40.4</td>\n",
       "      <td>28.0</td>\n",
       "      <td>0</td>\n",
       "      <td>105064.063534</td>\n",
       "      <td>2.1</td>\n",
       "      <td>34.7</td>\n",
       "      <td>0.331</td>\n",
       "      <td>0.306</td>\n",
       "    </tr>\n",
       "    <tr>\n",
       "      <th>ASSAM</th>\n",
       "      <td>3</td>\n",
       "      <td>1679</td>\n",
       "      <td>691</td>\n",
       "      <td>0</td>\n",
       "      <td>2370</td>\n",
       "      <td>1.7</td>\n",
       "      <td>344.2</td>\n",
       "      <td>4.877978</td>\n",
       "      <td>2.007554</td>\n",
       "      <td>6.9</td>\n",
       "      <td>...</td>\n",
       "      <td>0.9</td>\n",
       "      <td>0.5</td>\n",
       "      <td>15.2</td>\n",
       "      <td>8.8</td>\n",
       "      <td>0</td>\n",
       "      <td>62795.613255</td>\n",
       "      <td>2.3</td>\n",
       "      <td>32.0</td>\n",
       "      <td>0.313</td>\n",
       "      <td>0.289</td>\n",
       "    </tr>\n",
       "    <tr>\n",
       "      <th>BIHAR</th>\n",
       "      <td>4</td>\n",
       "      <td>395</td>\n",
       "      <td>246</td>\n",
       "      <td>0</td>\n",
       "      <td>641</td>\n",
       "      <td>0.5</td>\n",
       "      <td>1201.1</td>\n",
       "      <td>0.328865</td>\n",
       "      <td>0.204812</td>\n",
       "      <td>0.5</td>\n",
       "      <td>...</td>\n",
       "      <td>0.1</td>\n",
       "      <td>1.1</td>\n",
       "      <td>1.7</td>\n",
       "      <td>0.9</td>\n",
       "      <td>0</td>\n",
       "      <td>31286.615814</td>\n",
       "      <td>3.2</td>\n",
       "      <td>33.7</td>\n",
       "      <td>0.227</td>\n",
       "      <td>0.401</td>\n",
       "    </tr>\n",
       "    <tr>\n",
       "      <th>CHHATTISGARH</th>\n",
       "      <td>5</td>\n",
       "      <td>5520</td>\n",
       "      <td>2109</td>\n",
       "      <td>0</td>\n",
       "      <td>7629</td>\n",
       "      <td>5.5</td>\n",
       "      <td>288.5</td>\n",
       "      <td>19.133449</td>\n",
       "      <td>7.310225</td>\n",
       "      <td>26.4</td>\n",
       "      <td>...</td>\n",
       "      <td>0.6</td>\n",
       "      <td>2.7</td>\n",
       "      <td>57.2</td>\n",
       "      <td>35.6</td>\n",
       "      <td>3</td>\n",
       "      <td>75277.729630</td>\n",
       "      <td>2.4</td>\n",
       "      <td>39.9</td>\n",
       "      <td>0.312</td>\n",
       "      <td>0.342</td>\n",
       "    </tr>\n",
       "    <tr>\n",
       "      <th>GOA</th>\n",
       "      <td>6</td>\n",
       "      <td>201</td>\n",
       "      <td>58</td>\n",
       "      <td>0</td>\n",
       "      <td>259</td>\n",
       "      <td>0.2</td>\n",
       "      <td>15.4</td>\n",
       "      <td>13.051948</td>\n",
       "      <td>3.766234</td>\n",
       "      <td>16.8</td>\n",
       "      <td>...</td>\n",
       "      <td>1.5</td>\n",
       "      <td>0.7</td>\n",
       "      <td>46.0</td>\n",
       "      <td>26.4</td>\n",
       "      <td>0</td>\n",
       "      <td>367226.470352</td>\n",
       "      <td>1.8</td>\n",
       "      <td>5.1</td>\n",
       "      <td>0.576</td>\n",
       "      <td>0.180</td>\n",
       "    </tr>\n",
       "    <tr>\n",
       "      <th>GUJARAT</th>\n",
       "      <td>7</td>\n",
       "      <td>5168</td>\n",
       "      <td>2486</td>\n",
       "      <td>1</td>\n",
       "      <td>7655</td>\n",
       "      <td>5.5</td>\n",
       "      <td>682.5</td>\n",
       "      <td>7.572161</td>\n",
       "      <td>3.642491</td>\n",
       "      <td>11.2</td>\n",
       "      <td>...</td>\n",
       "      <td>0.4</td>\n",
       "      <td>0.1</td>\n",
       "      <td>7.2</td>\n",
       "      <td>3.9</td>\n",
       "      <td>0</td>\n",
       "      <td>165358.840640</td>\n",
       "      <td>2.2</td>\n",
       "      <td>16.6</td>\n",
       "      <td>0.410</td>\n",
       "      <td>0.269</td>\n",
       "    </tr>\n",
       "    <tr>\n",
       "      <th>HARYANA</th>\n",
       "      <td>8</td>\n",
       "      <td>3297</td>\n",
       "      <td>894</td>\n",
       "      <td>0</td>\n",
       "      <td>4191</td>\n",
       "      <td>3.0</td>\n",
       "      <td>288.1</td>\n",
       "      <td>11.443943</td>\n",
       "      <td>3.103089</td>\n",
       "      <td>14.5</td>\n",
       "      <td>...</td>\n",
       "      <td>2.5</td>\n",
       "      <td>2.9</td>\n",
       "      <td>41.3</td>\n",
       "      <td>21.6</td>\n",
       "      <td>0</td>\n",
       "      <td>176199.105299</td>\n",
       "      <td>2.2</td>\n",
       "      <td>11.2</td>\n",
       "      <td>0.516</td>\n",
       "      <td>0.200</td>\n",
       "    </tr>\n",
       "    <tr>\n",
       "      <th>HIMACHAL PRADESH</th>\n",
       "      <td>9</td>\n",
       "      <td>377</td>\n",
       "      <td>207</td>\n",
       "      <td>0</td>\n",
       "      <td>584</td>\n",
       "      <td>0.4</td>\n",
       "      <td>73.2</td>\n",
       "      <td>5.150273</td>\n",
       "      <td>2.827869</td>\n",
       "      <td>8.0</td>\n",
       "      <td>...</td>\n",
       "      <td>1.7</td>\n",
       "      <td>3.2</td>\n",
       "      <td>17.6</td>\n",
       "      <td>8.9</td>\n",
       "      <td>0</td>\n",
       "      <td>142155.416182</td>\n",
       "      <td>1.6</td>\n",
       "      <td>8.1</td>\n",
       "      <td>0.491</td>\n",
       "      <td>0.200</td>\n",
       "    </tr>\n",
       "    <tr>\n",
       "      <th>JAMMU &amp; KASHMIR</th>\n",
       "      <td>10</td>\n",
       "      <td>157</td>\n",
       "      <td>127</td>\n",
       "      <td>0</td>\n",
       "      <td>284</td>\n",
       "      <td>0.2</td>\n",
       "      <td>135.3</td>\n",
       "      <td>1.160384</td>\n",
       "      <td>0.938655</td>\n",
       "      <td>2.1</td>\n",
       "      <td>...</td>\n",
       "      <td>1.5</td>\n",
       "      <td>0.7</td>\n",
       "      <td>7.4</td>\n",
       "      <td>3.5</td>\n",
       "      <td>0</td>\n",
       "      <td>70176.433858</td>\n",
       "      <td>1.6</td>\n",
       "      <td>10.4</td>\n",
       "      <td>0.444</td>\n",
       "      <td>0.256</td>\n",
       "    </tr>\n",
       "    <tr>\n",
       "      <th>JHARKHAND</th>\n",
       "      <td>11</td>\n",
       "      <td>1066</td>\n",
       "      <td>580</td>\n",
       "      <td>0</td>\n",
       "      <td>1646</td>\n",
       "      <td>1.2</td>\n",
       "      <td>375.8</td>\n",
       "      <td>2.836615</td>\n",
       "      <td>1.543374</td>\n",
       "      <td>4.4</td>\n",
       "      <td>...</td>\n",
       "      <td>0.3</td>\n",
       "      <td>0.3</td>\n",
       "      <td>11.7</td>\n",
       "      <td>6.5</td>\n",
       "      <td>0</td>\n",
       "      <td>57863.383556</td>\n",
       "      <td>2.5</td>\n",
       "      <td>37.0</td>\n",
       "      <td>0.255</td>\n",
       "      <td>0.396</td>\n",
       "    </tr>\n",
       "    <tr>\n",
       "      <th>KARNATAKA</th>\n",
       "      <td>12</td>\n",
       "      <td>8413</td>\n",
       "      <td>2873</td>\n",
       "      <td>2</td>\n",
       "      <td>11288</td>\n",
       "      <td>8.1</td>\n",
       "      <td>659.7</td>\n",
       "      <td>12.752766</td>\n",
       "      <td>4.355010</td>\n",
       "      <td>17.1</td>\n",
       "      <td>...</td>\n",
       "      <td>0.5</td>\n",
       "      <td>0.4</td>\n",
       "      <td>12.1</td>\n",
       "      <td>6.4</td>\n",
       "      <td>1</td>\n",
       "      <td>154860.523778</td>\n",
       "      <td>1.7</td>\n",
       "      <td>20.9</td>\n",
       "      <td>0.410</td>\n",
       "      <td>0.257</td>\n",
       "    </tr>\n",
       "    <tr>\n",
       "      <th>KERALA</th>\n",
       "      <td>13</td>\n",
       "      <td>6668</td>\n",
       "      <td>1888</td>\n",
       "      <td>0</td>\n",
       "      <td>8556</td>\n",
       "      <td>6.1</td>\n",
       "      <td>351.9</td>\n",
       "      <td>18.948565</td>\n",
       "      <td>5.365161</td>\n",
       "      <td>24.3</td>\n",
       "      <td>...</td>\n",
       "      <td>0.4</td>\n",
       "      <td>0.1</td>\n",
       "      <td>29.3</td>\n",
       "      <td>12.4</td>\n",
       "      <td>0</td>\n",
       "      <td>149563.403803</td>\n",
       "      <td>1.7</td>\n",
       "      <td>7.1</td>\n",
       "      <td>0.577</td>\n",
       "      <td>0.169</td>\n",
       "    </tr>\n",
       "    <tr>\n",
       "      <th>MADHYA PRADESH</th>\n",
       "      <td>14</td>\n",
       "      <td>8107</td>\n",
       "      <td>4348</td>\n",
       "      <td>2</td>\n",
       "      <td>12457</td>\n",
       "      <td>9.0</td>\n",
       "      <td>826.1</td>\n",
       "      <td>9.813582</td>\n",
       "      <td>5.263285</td>\n",
       "      <td>15.1</td>\n",
       "      <td>...</td>\n",
       "      <td>0.6</td>\n",
       "      <td>0.5</td>\n",
       "      <td>31.7</td>\n",
       "      <td>17.7</td>\n",
       "      <td>6</td>\n",
       "      <td>62235.853700</td>\n",
       "      <td>2.7</td>\n",
       "      <td>31.7</td>\n",
       "      <td>0.316</td>\n",
       "      <td>0.376</td>\n",
       "    </tr>\n",
       "    <tr>\n",
       "      <th>MAHARASHTRA</th>\n",
       "      <td>15</td>\n",
       "      <td>14466</td>\n",
       "      <td>4448</td>\n",
       "      <td>2</td>\n",
       "      <td>18916</td>\n",
       "      <td>13.6</td>\n",
       "      <td>1225.3</td>\n",
       "      <td>11.806088</td>\n",
       "      <td>3.630131</td>\n",
       "      <td>15.4</td>\n",
       "      <td>...</td>\n",
       "      <td>0.5</td>\n",
       "      <td>0.5</td>\n",
       "      <td>10.2</td>\n",
       "      <td>5.7</td>\n",
       "      <td>5</td>\n",
       "      <td>152566.027356</td>\n",
       "      <td>1.7</td>\n",
       "      <td>17.4</td>\n",
       "      <td>0.408</td>\n",
       "      <td>0.275</td>\n",
       "    </tr>\n",
       "    <tr>\n",
       "      <th>MANIPUR</th>\n",
       "      <td>16</td>\n",
       "      <td>36</td>\n",
       "      <td>22</td>\n",
       "      <td>0</td>\n",
       "      <td>58</td>\n",
       "      <td>0.0</td>\n",
       "      <td>31.1</td>\n",
       "      <td>1.157556</td>\n",
       "      <td>0.707395</td>\n",
       "      <td>1.9</td>\n",
       "      <td>...</td>\n",
       "      <td>4.0</td>\n",
       "      <td>2.8</td>\n",
       "      <td>40.2</td>\n",
       "      <td>22.4</td>\n",
       "      <td>0</td>\n",
       "      <td>53929.577766</td>\n",
       "      <td>1.4</td>\n",
       "      <td>36.9</td>\n",
       "      <td>0.403</td>\n",
       "      <td>0.256</td>\n",
       "    </tr>\n",
       "    <tr>\n",
       "      <th>MEGHALAYA</th>\n",
       "      <td>17</td>\n",
       "      <td>165</td>\n",
       "      <td>33</td>\n",
       "      <td>0</td>\n",
       "      <td>198</td>\n",
       "      <td>0.1</td>\n",
       "      <td>32.3</td>\n",
       "      <td>5.108359</td>\n",
       "      <td>1.021672</td>\n",
       "      <td>6.1</td>\n",
       "      <td>...</td>\n",
       "      <td>2.0</td>\n",
       "      <td>1.7</td>\n",
       "      <td>6.9</td>\n",
       "      <td>3.4</td>\n",
       "      <td>0</td>\n",
       "      <td>66152.817705</td>\n",
       "      <td>2.9</td>\n",
       "      <td>11.9</td>\n",
       "      <td>0.326</td>\n",
       "      <td>0.270</td>\n",
       "    </tr>\n",
       "    <tr>\n",
       "      <th>MIZORAM</th>\n",
       "      <td>18</td>\n",
       "      <td>54</td>\n",
       "      <td>16</td>\n",
       "      <td>0</td>\n",
       "      <td>70</td>\n",
       "      <td>0.1</td>\n",
       "      <td>12.0</td>\n",
       "      <td>4.500000</td>\n",
       "      <td>1.333333</td>\n",
       "      <td>5.9</td>\n",
       "      <td>...</td>\n",
       "      <td>6.9</td>\n",
       "      <td>3.2</td>\n",
       "      <td>15.1</td>\n",
       "      <td>7.8</td>\n",
       "      <td>0</td>\n",
       "      <td>148663.293637</td>\n",
       "      <td>2.3</td>\n",
       "      <td>20.4</td>\n",
       "      <td>0.458</td>\n",
       "      <td>0.252</td>\n",
       "    </tr>\n",
       "    <tr>\n",
       "      <th>NAGALAND</th>\n",
       "      <td>19</td>\n",
       "      <td>36</td>\n",
       "      <td>5</td>\n",
       "      <td>0</td>\n",
       "      <td>41</td>\n",
       "      <td>0.0</td>\n",
       "      <td>21.6</td>\n",
       "      <td>1.666667</td>\n",
       "      <td>0.231481</td>\n",
       "      <td>1.9</td>\n",
       "      <td>...</td>\n",
       "      <td>6.5</td>\n",
       "      <td>4.7</td>\n",
       "      <td>14.5</td>\n",
       "      <td>8.1</td>\n",
       "      <td>0</td>\n",
       "      <td>75950.571466</td>\n",
       "      <td>2.5</td>\n",
       "      <td>18.9</td>\n",
       "      <td>0.355</td>\n",
       "      <td>0.274</td>\n",
       "    </tr>\n",
       "    <tr>\n",
       "      <th>ODISHA</th>\n",
       "      <td>20</td>\n",
       "      <td>2596</td>\n",
       "      <td>1986</td>\n",
       "      <td>0</td>\n",
       "      <td>4582</td>\n",
       "      <td>3.3</td>\n",
       "      <td>437.3</td>\n",
       "      <td>5.936428</td>\n",
       "      <td>4.541505</td>\n",
       "      <td>10.5</td>\n",
       "      <td>...</td>\n",
       "      <td>0.8</td>\n",
       "      <td>4.5</td>\n",
       "      <td>31.8</td>\n",
       "      <td>16.4</td>\n",
       "      <td>2</td>\n",
       "      <td>78679.820472</td>\n",
       "      <td>1.9</td>\n",
       "      <td>32.6</td>\n",
       "      <td>0.274</td>\n",
       "      <td>0.360</td>\n",
       "    </tr>\n",
       "    <tr>\n",
       "      <th>PUNJAB</th>\n",
       "      <td>21</td>\n",
       "      <td>1817</td>\n",
       "      <td>539</td>\n",
       "      <td>1</td>\n",
       "      <td>2357</td>\n",
       "      <td>1.7</td>\n",
       "      <td>299.4</td>\n",
       "      <td>6.068804</td>\n",
       "      <td>1.800267</td>\n",
       "      <td>7.9</td>\n",
       "      <td>...</td>\n",
       "      <td>2.8</td>\n",
       "      <td>1.3</td>\n",
       "      <td>51.7</td>\n",
       "      <td>28.5</td>\n",
       "      <td>4</td>\n",
       "      <td>118847.980514</td>\n",
       "      <td>1.6</td>\n",
       "      <td>8.3</td>\n",
       "      <td>0.580</td>\n",
       "      <td>0.164</td>\n",
       "    </tr>\n",
       "    <tr>\n",
       "      <th>RAJASTHAN</th>\n",
       "      <td>22</td>\n",
       "      <td>3302</td>\n",
       "      <td>1229</td>\n",
       "      <td>0</td>\n",
       "      <td>4531</td>\n",
       "      <td>3.3</td>\n",
       "      <td>776.0</td>\n",
       "      <td>4.255155</td>\n",
       "      <td>1.583763</td>\n",
       "      <td>5.8</td>\n",
       "      <td>...</td>\n",
       "      <td>0.5</td>\n",
       "      <td>0.1</td>\n",
       "      <td>3.4</td>\n",
       "      <td>2.1</td>\n",
       "      <td>0</td>\n",
       "      <td>78390.327157</td>\n",
       "      <td>2.6</td>\n",
       "      <td>14.7</td>\n",
       "      <td>0.355</td>\n",
       "      <td>0.340</td>\n",
       "    </tr>\n",
       "    <tr>\n",
       "      <th>SIKKIM</th>\n",
       "      <td>23</td>\n",
       "      <td>162</td>\n",
       "      <td>58</td>\n",
       "      <td>0</td>\n",
       "      <td>220</td>\n",
       "      <td>0.2</td>\n",
       "      <td>6.7</td>\n",
       "      <td>24.179104</td>\n",
       "      <td>8.656716</td>\n",
       "      <td>33.1</td>\n",
       "      <td>...</td>\n",
       "      <td>5.1</td>\n",
       "      <td>7.3</td>\n",
       "      <td>26.4</td>\n",
       "      <td>15.7</td>\n",
       "      <td>0</td>\n",
       "      <td>255771.759865</td>\n",
       "      <td>1.2</td>\n",
       "      <td>8.2</td>\n",
       "      <td>0.396</td>\n",
       "      <td>0.163</td>\n",
       "    </tr>\n",
       "    <tr>\n",
       "      <th>TAMIL NADU</th>\n",
       "      <td>24</td>\n",
       "      <td>9235</td>\n",
       "      <td>4250</td>\n",
       "      <td>8</td>\n",
       "      <td>13493</td>\n",
       "      <td>9.7</td>\n",
       "      <td>758.1</td>\n",
       "      <td>12.181770</td>\n",
       "      <td>5.606121</td>\n",
       "      <td>17.8</td>\n",
       "      <td>...</td>\n",
       "      <td>0.2</td>\n",
       "      <td>0.1</td>\n",
       "      <td>28.5</td>\n",
       "      <td>14.2</td>\n",
       "      <td>7</td>\n",
       "      <td>153853.061757</td>\n",
       "      <td>1.6</td>\n",
       "      <td>11.3</td>\n",
       "      <td>0.435</td>\n",
       "      <td>0.237</td>\n",
       "    </tr>\n",
       "    <tr>\n",
       "      <th>TELANGANA</th>\n",
       "      <td>25</td>\n",
       "      <td>5612</td>\n",
       "      <td>2062</td>\n",
       "      <td>1</td>\n",
       "      <td>7675</td>\n",
       "      <td>5.5</td>\n",
       "      <td>372.8</td>\n",
       "      <td>15.053648</td>\n",
       "      <td>5.531116</td>\n",
       "      <td>20.6</td>\n",
       "      <td>...</td>\n",
       "      <td>0.7</td>\n",
       "      <td>0.2</td>\n",
       "      <td>30.4</td>\n",
       "      <td>16.8</td>\n",
       "      <td>0</td>\n",
       "      <td>150641.390197</td>\n",
       "      <td>1.7</td>\n",
       "      <td>9.2</td>\n",
       "      <td>0.357</td>\n",
       "      <td>0.270</td>\n",
       "    </tr>\n",
       "    <tr>\n",
       "      <th>TRIPURA</th>\n",
       "      <td>26</td>\n",
       "      <td>496</td>\n",
       "      <td>232</td>\n",
       "      <td>0</td>\n",
       "      <td>728</td>\n",
       "      <td>0.5</td>\n",
       "      <td>40.0</td>\n",
       "      <td>12.400000</td>\n",
       "      <td>5.800000</td>\n",
       "      <td>18.2</td>\n",
       "      <td>...</td>\n",
       "      <td>1.5</td>\n",
       "      <td>0.7</td>\n",
       "      <td>62.1</td>\n",
       "      <td>34.7</td>\n",
       "      <td>0</td>\n",
       "      <td>89681.663440</td>\n",
       "      <td>1.7</td>\n",
       "      <td>14.1</td>\n",
       "      <td>0.326</td>\n",
       "      <td>0.263</td>\n",
       "    </tr>\n",
       "    <tr>\n",
       "      <th>UTTAR PRADESH</th>\n",
       "      <td>27</td>\n",
       "      <td>3233</td>\n",
       "      <td>2231</td>\n",
       "      <td>0</td>\n",
       "      <td>5464</td>\n",
       "      <td>3.9</td>\n",
       "      <td>2259.7</td>\n",
       "      <td>1.430721</td>\n",
       "      <td>0.987299</td>\n",
       "      <td>2.4</td>\n",
       "      <td>...</td>\n",
       "      <td>0.6</td>\n",
       "      <td>3.2</td>\n",
       "      <td>45.2</td>\n",
       "      <td>23.8</td>\n",
       "      <td>9</td>\n",
       "      <td>44618.258685</td>\n",
       "      <td>3.0</td>\n",
       "      <td>29.4</td>\n",
       "      <td>0.319</td>\n",
       "      <td>0.363</td>\n",
       "    </tr>\n",
       "    <tr>\n",
       "      <th>UTTARAKHAND</th>\n",
       "      <td>28</td>\n",
       "      <td>335</td>\n",
       "      <td>181</td>\n",
       "      <td>0</td>\n",
       "      <td>516</td>\n",
       "      <td>0.4</td>\n",
       "      <td>111.8</td>\n",
       "      <td>2.996422</td>\n",
       "      <td>1.618962</td>\n",
       "      <td>4.6</td>\n",
       "      <td>...</td>\n",
       "      <td>0.8</td>\n",
       "      <td>1.4</td>\n",
       "      <td>38.1</td>\n",
       "      <td>18.8</td>\n",
       "      <td>0</td>\n",
       "      <td>158918.501479</td>\n",
       "      <td>1.9</td>\n",
       "      <td>11.3</td>\n",
       "      <td>0.434</td>\n",
       "      <td>0.254</td>\n",
       "    </tr>\n",
       "    <tr>\n",
       "      <th>WEST BENGAL</th>\n",
       "      <td>29</td>\n",
       "      <td>7769</td>\n",
       "      <td>4896</td>\n",
       "      <td>0</td>\n",
       "      <td>12665</td>\n",
       "      <td>9.1</td>\n",
       "      <td>971.1</td>\n",
       "      <td>8.000206</td>\n",
       "      <td>5.041705</td>\n",
       "      <td>13.0</td>\n",
       "      <td>...</td>\n",
       "      <td>0.4</td>\n",
       "      <td>0.6</td>\n",
       "      <td>29.2</td>\n",
       "      <td>16.7</td>\n",
       "      <td>4</td>\n",
       "      <td>71757.350755</td>\n",
       "      <td>1.6</td>\n",
       "      <td>20.0</td>\n",
       "      <td>0.311</td>\n",
       "      <td>0.312</td>\n",
       "    </tr>\n",
       "    <tr>\n",
       "      <th>A &amp; N ISLANDS</th>\n",
       "      <td>30</td>\n",
       "      <td>130</td>\n",
       "      <td>51</td>\n",
       "      <td>0</td>\n",
       "      <td>181</td>\n",
       "      <td>0.1</td>\n",
       "      <td>4.0</td>\n",
       "      <td>32.500000</td>\n",
       "      <td>12.750000</td>\n",
       "      <td>45.5</td>\n",
       "      <td>...</td>\n",
       "      <td>0.5</td>\n",
       "      <td>0.1</td>\n",
       "      <td>47.1</td>\n",
       "      <td>25.4</td>\n",
       "      <td>0</td>\n",
       "      <td>155046.234848</td>\n",
       "      <td>1.5</td>\n",
       "      <td>NaN</td>\n",
       "      <td>NaN</td>\n",
       "      <td>NaN</td>\n",
       "    </tr>\n",
       "    <tr>\n",
       "      <th>CHANDIGARH</th>\n",
       "      <td>31</td>\n",
       "      <td>93</td>\n",
       "      <td>38</td>\n",
       "      <td>0</td>\n",
       "      <td>131</td>\n",
       "      <td>0.1</td>\n",
       "      <td>11.8</td>\n",
       "      <td>7.881356</td>\n",
       "      <td>3.220339</td>\n",
       "      <td>11.1</td>\n",
       "      <td>...</td>\n",
       "      <td>0.9</td>\n",
       "      <td>0.4</td>\n",
       "      <td>32.3</td>\n",
       "      <td>17.5</td>\n",
       "      <td>0</td>\n",
       "      <td>234997.612958</td>\n",
       "      <td>1.8</td>\n",
       "      <td>NaN</td>\n",
       "      <td>NaN</td>\n",
       "      <td>NaN</td>\n",
       "    </tr>\n",
       "    <tr>\n",
       "      <th>D &amp; N HAVELI</th>\n",
       "      <td>32</td>\n",
       "      <td>72</td>\n",
       "      <td>23</td>\n",
       "      <td>0</td>\n",
       "      <td>95</td>\n",
       "      <td>0.1</td>\n",
       "      <td>5.6</td>\n",
       "      <td>12.857143</td>\n",
       "      <td>4.107143</td>\n",
       "      <td>17.1</td>\n",
       "      <td>...</td>\n",
       "      <td>0.5</td>\n",
       "      <td>0.1</td>\n",
       "      <td>19.5</td>\n",
       "      <td>11.6</td>\n",
       "      <td>0</td>\n",
       "      <td>NaN</td>\n",
       "      <td>2.3</td>\n",
       "      <td>NaN</td>\n",
       "      <td>NaN</td>\n",
       "      <td>NaN</td>\n",
       "    </tr>\n",
       "    <tr>\n",
       "      <th>DAMAN &amp; DIU</th>\n",
       "      <td>33</td>\n",
       "      <td>29</td>\n",
       "      <td>17</td>\n",
       "      <td>0</td>\n",
       "      <td>46</td>\n",
       "      <td>0.0</td>\n",
       "      <td>4.2</td>\n",
       "      <td>6.904762</td>\n",
       "      <td>4.047619</td>\n",
       "      <td>10.9</td>\n",
       "      <td>...</td>\n",
       "      <td>2.5</td>\n",
       "      <td>1.3</td>\n",
       "      <td>29.4</td>\n",
       "      <td>18.3</td>\n",
       "      <td>0</td>\n",
       "      <td>NaN</td>\n",
       "      <td>1.7</td>\n",
       "      <td>NaN</td>\n",
       "      <td>NaN</td>\n",
       "      <td>NaN</td>\n",
       "    </tr>\n",
       "    <tr>\n",
       "      <th>DELHI (UT)</th>\n",
       "      <td>34</td>\n",
       "      <td>1758</td>\n",
       "      <td>768</td>\n",
       "      <td>0</td>\n",
       "      <td>2526</td>\n",
       "      <td>1.8</td>\n",
       "      <td>199.4</td>\n",
       "      <td>8.816449</td>\n",
       "      <td>3.851555</td>\n",
       "      <td>12.7</td>\n",
       "      <td>...</td>\n",
       "      <td>2.3</td>\n",
       "      <td>3.8</td>\n",
       "      <td>40.1</td>\n",
       "      <td>21.3</td>\n",
       "      <td>0</td>\n",
       "      <td>274670.811733</td>\n",
       "      <td>1.5</td>\n",
       "      <td>9.9</td>\n",
       "      <td>0.533</td>\n",
       "      <td>0.194</td>\n",
       "    </tr>\n",
       "    <tr>\n",
       "      <th>LAKSHADWEEP</th>\n",
       "      <td>35</td>\n",
       "      <td>0</td>\n",
       "      <td>0</td>\n",
       "      <td>0</td>\n",
       "      <td>0</td>\n",
       "      <td>0.0</td>\n",
       "      <td>0.7</td>\n",
       "      <td>0.000000</td>\n",
       "      <td>0.000000</td>\n",
       "      <td>0.0</td>\n",
       "      <td>...</td>\n",
       "      <td>0.6</td>\n",
       "      <td>0.1</td>\n",
       "      <td>0.1</td>\n",
       "      <td>0.2</td>\n",
       "      <td>0</td>\n",
       "      <td>NaN</td>\n",
       "      <td>1.9</td>\n",
       "      <td>NaN</td>\n",
       "      <td>NaN</td>\n",
       "      <td>NaN</td>\n",
       "    </tr>\n",
       "    <tr>\n",
       "      <th>PUDUCHERRY</th>\n",
       "      <td>36</td>\n",
       "      <td>348</td>\n",
       "      <td>145</td>\n",
       "      <td>0</td>\n",
       "      <td>493</td>\n",
       "      <td>0.4</td>\n",
       "      <td>15.2</td>\n",
       "      <td>22.894737</td>\n",
       "      <td>9.539474</td>\n",
       "      <td>32.5</td>\n",
       "      <td>...</td>\n",
       "      <td>0.6</td>\n",
       "      <td>0.0</td>\n",
       "      <td>20.0</td>\n",
       "      <td>9.5</td>\n",
       "      <td>0</td>\n",
       "      <td>141918.255672</td>\n",
       "      <td>1.6</td>\n",
       "      <td>9.7</td>\n",
       "      <td>NaN</td>\n",
       "      <td>NaN</td>\n",
       "    </tr>\n",
       "  </tbody>\n",
       "</table>\n",
       "<p>36 rows × 25 columns</p>\n",
       "</div>"
      ],
      "text/plain": [
       "                   Sl. No.  Male_suicides  Female_suicides  \\\n",
       "State_UT                                                     \n",
       "ANDHRA PRADESH           1           4740             1725   \n",
       "ARUNACHAL PRADESH        2             81               31   \n",
       "ASSAM                    3           1679              691   \n",
       "BIHAR                    4            395              246   \n",
       "CHHATTISGARH             5           5520             2109   \n",
       "GOA                      6            201               58   \n",
       "GUJARAT                  7           5168             2486   \n",
       "HARYANA                  8           3297              894   \n",
       "HIMACHAL PRADESH         9            377              207   \n",
       "JAMMU & KASHMIR         10            157              127   \n",
       "JHARKHAND               11           1066              580   \n",
       "KARNATAKA               12           8413             2873   \n",
       "KERALA                  13           6668             1888   \n",
       "MADHYA PRADESH          14           8107             4348   \n",
       "MAHARASHTRA             15          14466             4448   \n",
       "MANIPUR                 16             36               22   \n",
       "MEGHALAYA               17            165               33   \n",
       "MIZORAM                 18             54               16   \n",
       "NAGALAND                19             36                5   \n",
       "ODISHA                  20           2596             1986   \n",
       "PUNJAB                  21           1817              539   \n",
       "RAJASTHAN               22           3302             1229   \n",
       "SIKKIM                  23            162               58   \n",
       "TAMIL NADU              24           9235             4250   \n",
       "TELANGANA               25           5612             2062   \n",
       "TRIPURA                 26            496              232   \n",
       "UTTAR PRADESH           27           3233             2231   \n",
       "UTTARAKHAND             28            335              181   \n",
       "WEST BENGAL             29           7769             4896   \n",
       "A & N ISLANDS           30            130               51   \n",
       "CHANDIGARH              31             93               38   \n",
       "D & N HAVELI            32             72               23   \n",
       "DAMAN & DIU             33             29               17   \n",
       "DELHI (UT)              34           1758              768   \n",
       "LAKSHADWEEP             35              0                0   \n",
       "PUDUCHERRY              36            348              145   \n",
       "\n",
       "                   Transgender_suicides  Number_Suicides  Perc_share  \\\n",
       "State_UT                                                               \n",
       "ANDHRA PRADESH                        0             6465         4.6   \n",
       "ARUNACHAL PRADESH                     0              112         0.1   \n",
       "ASSAM                                 0             2370         1.7   \n",
       "BIHAR                                 0              641         0.5   \n",
       "CHHATTISGARH                          0             7629         5.5   \n",
       "GOA                                   0              259         0.2   \n",
       "GUJARAT                               1             7655         5.5   \n",
       "HARYANA                               0             4191         3.0   \n",
       "HIMACHAL PRADESH                      0              584         0.4   \n",
       "JAMMU & KASHMIR                       0              284         0.2   \n",
       "JHARKHAND                             0             1646         1.2   \n",
       "KARNATAKA                             2            11288         8.1   \n",
       "KERALA                                0             8556         6.1   \n",
       "MADHYA PRADESH                        2            12457         9.0   \n",
       "MAHARASHTRA                           2            18916        13.6   \n",
       "MANIPUR                               0               58         0.0   \n",
       "MEGHALAYA                             0              198         0.1   \n",
       "MIZORAM                               0               70         0.1   \n",
       "NAGALAND                              0               41         0.0   \n",
       "ODISHA                                0             4582         3.3   \n",
       "PUNJAB                                1             2357         1.7   \n",
       "RAJASTHAN                             0             4531         3.3   \n",
       "SIKKIM                                0              220         0.2   \n",
       "TAMIL NADU                            8            13493         9.7   \n",
       "TELANGANA                             1             7675         5.5   \n",
       "TRIPURA                               0              728         0.5   \n",
       "UTTAR PRADESH                         0             5464         3.9   \n",
       "UTTARAKHAND                           0              516         0.4   \n",
       "WEST BENGAL                           0            12665         9.1   \n",
       "A & N ISLANDS                         0              181         0.1   \n",
       "CHANDIGARH                            0              131         0.1   \n",
       "D & N HAVELI                          0               95         0.1   \n",
       "DAMAN & DIU                           0               46         0.0   \n",
       "DELHI (UT)                            0             2526         1.8   \n",
       "LAKSHADWEEP                           0                0         0.0   \n",
       "PUDUCHERRY                            0              493         0.4   \n",
       "\n",
       "                   Pop_in_Lakh  Male_suicide_rate  Female_suicide_rate  \\\n",
       "State_UT                                                                 \n",
       "ANDHRA PRADESH           523.2           9.059633             3.297018   \n",
       "ARUNACHAL PRADESH         15.1           5.364238             2.052980   \n",
       "ASSAM                    344.2           4.877978             2.007554   \n",
       "BIHAR                   1201.1           0.328865             0.204812   \n",
       "CHHATTISGARH             288.5          19.133449             7.310225   \n",
       "GOA                       15.4          13.051948             3.766234   \n",
       "GUJARAT                  682.5           7.572161             3.642491   \n",
       "HARYANA                  288.1          11.443943             3.103089   \n",
       "HIMACHAL PRADESH          73.2           5.150273             2.827869   \n",
       "JAMMU & KASHMIR          135.3           1.160384             0.938655   \n",
       "JHARKHAND                375.8           2.836615             1.543374   \n",
       "KARNATAKA                659.7          12.752766             4.355010   \n",
       "KERALA                   351.9          18.948565             5.365161   \n",
       "MADHYA PRADESH           826.1           9.813582             5.263285   \n",
       "MAHARASHTRA             1225.3          11.806088             3.630131   \n",
       "MANIPUR                   31.1           1.157556             0.707395   \n",
       "MEGHALAYA                 32.3           5.108359             1.021672   \n",
       "MIZORAM                   12.0           4.500000             1.333333   \n",
       "NAGALAND                  21.6           1.666667             0.231481   \n",
       "ODISHA                   437.3           5.936428             4.541505   \n",
       "PUNJAB                   299.4           6.068804             1.800267   \n",
       "RAJASTHAN                776.0           4.255155             1.583763   \n",
       "SIKKIM                     6.7          24.179104             8.656716   \n",
       "TAMIL NADU               758.1          12.181770             5.606121   \n",
       "TELANGANA                372.8          15.053648             5.531116   \n",
       "TRIPURA                   40.0          12.400000             5.800000   \n",
       "UTTAR PRADESH           2259.7           1.430721             0.987299   \n",
       "UTTARAKHAND              111.8           2.996422             1.618962   \n",
       "WEST BENGAL              971.1           8.000206             5.041705   \n",
       "A & N ISLANDS              4.0          32.500000            12.750000   \n",
       "CHANDIGARH                11.8           7.881356             3.220339   \n",
       "D & N HAVELI               5.6          12.857143             4.107143   \n",
       "DAMAN & DIU                4.2           6.904762             4.047619   \n",
       "DELHI (UT)               199.4           8.816449             3.851555   \n",
       "LAKSHADWEEP                0.7           0.000000             0.000000   \n",
       "PUDUCHERRY                15.2          22.894737             9.539474   \n",
       "\n",
       "                   Suicide_Rate  ...  QoW_Opioids  Ganja  Alcohol_total_perc  \\\n",
       "State_UT                         ...                                           \n",
       "ANDHRA PRADESH             12.4  ...          0.8    0.2                26.5   \n",
       "ARUNACHAL PRADESH           7.4  ...          5.7    4.2                40.4   \n",
       "ASSAM                       6.9  ...          0.9    0.5                15.2   \n",
       "BIHAR                       0.5  ...          0.1    1.1                 1.7   \n",
       "CHHATTISGARH               26.4  ...          0.6    2.7                57.2   \n",
       "GOA                        16.8  ...          1.5    0.7                46.0   \n",
       "GUJARAT                    11.2  ...          0.4    0.1                 7.2   \n",
       "HARYANA                    14.5  ...          2.5    2.9                41.3   \n",
       "HIMACHAL PRADESH            8.0  ...          1.7    3.2                17.6   \n",
       "JAMMU & KASHMIR             2.1  ...          1.5    0.7                 7.4   \n",
       "JHARKHAND                   4.4  ...          0.3    0.3                11.7   \n",
       "KARNATAKA                  17.1  ...          0.5    0.4                12.1   \n",
       "KERALA                     24.3  ...          0.4    0.1                29.3   \n",
       "MADHYA PRADESH             15.1  ...          0.6    0.5                31.7   \n",
       "MAHARASHTRA                15.4  ...          0.5    0.5                10.2   \n",
       "MANIPUR                     1.9  ...          4.0    2.8                40.2   \n",
       "MEGHALAYA                   6.1  ...          2.0    1.7                 6.9   \n",
       "MIZORAM                     5.9  ...          6.9    3.2                15.1   \n",
       "NAGALAND                    1.9  ...          6.5    4.7                14.5   \n",
       "ODISHA                     10.5  ...          0.8    4.5                31.8   \n",
       "PUNJAB                      7.9  ...          2.8    1.3                51.7   \n",
       "RAJASTHAN                   5.8  ...          0.5    0.1                 3.4   \n",
       "SIKKIM                     33.1  ...          5.1    7.3                26.4   \n",
       "TAMIL NADU                 17.8  ...          0.2    0.1                28.5   \n",
       "TELANGANA                  20.6  ...          0.7    0.2                30.4   \n",
       "TRIPURA                    18.2  ...          1.5    0.7                62.1   \n",
       "UTTAR PRADESH               2.4  ...          0.6    3.2                45.2   \n",
       "UTTARAKHAND                 4.6  ...          0.8    1.4                38.1   \n",
       "WEST BENGAL                13.0  ...          0.4    0.6                29.2   \n",
       "A & N ISLANDS              45.5  ...          0.5    0.1                47.1   \n",
       "CHANDIGARH                 11.1  ...          0.9    0.4                32.3   \n",
       "D & N HAVELI               17.1  ...          0.5    0.1                19.5   \n",
       "DAMAN & DIU                10.9  ...          2.5    1.3                29.4   \n",
       "DELHI (UT)                 12.7  ...          2.3    3.8                40.1   \n",
       "LAKSHADWEEP                 0.0  ...          0.6    0.1                 0.1   \n",
       "PUDUCHERRY                 32.5  ...          0.6    0.0                20.0   \n",
       "\n",
       "                   Alcohol_men_perc  Top10_alcoholics_needing_help  \\\n",
       "State_UT                                                             \n",
       "ANDHRA PRADESH                 13.7                              8   \n",
       "ARUNACHAL PRADESH              28.0                              0   \n",
       "ASSAM                           8.8                              0   \n",
       "BIHAR                           0.9                              0   \n",
       "CHHATTISGARH                   35.6                              3   \n",
       "GOA                            26.4                              0   \n",
       "GUJARAT                         3.9                              0   \n",
       "HARYANA                        21.6                              0   \n",
       "HIMACHAL PRADESH                8.9                              0   \n",
       "JAMMU & KASHMIR                 3.5                              0   \n",
       "JHARKHAND                       6.5                              0   \n",
       "KARNATAKA                       6.4                              1   \n",
       "KERALA                         12.4                              0   \n",
       "MADHYA PRADESH                 17.7                              6   \n",
       "MAHARASHTRA                     5.7                              5   \n",
       "MANIPUR                        22.4                              0   \n",
       "MEGHALAYA                       3.4                              0   \n",
       "MIZORAM                         7.8                              0   \n",
       "NAGALAND                        8.1                              0   \n",
       "ODISHA                         16.4                              2   \n",
       "PUNJAB                         28.5                              4   \n",
       "RAJASTHAN                       2.1                              0   \n",
       "SIKKIM                         15.7                              0   \n",
       "TAMIL NADU                     14.2                              7   \n",
       "TELANGANA                      16.8                              0   \n",
       "TRIPURA                        34.7                              0   \n",
       "UTTAR PRADESH                  23.8                              9   \n",
       "UTTARAKHAND                    18.8                              0   \n",
       "WEST BENGAL                    16.7                              4   \n",
       "A & N ISLANDS                  25.4                              0   \n",
       "CHANDIGARH                     17.5                              0   \n",
       "D & N HAVELI                   11.6                              0   \n",
       "DAMAN & DIU                    18.3                              0   \n",
       "DELHI (UT)                     21.3                              0   \n",
       "LAKSHADWEEP                     0.2                              0   \n",
       "PUDUCHERRY                      9.5                              0   \n",
       "\n",
       "                   Percapita_NSDP_2019  TFR_2017  Perc_BPL  \\\n",
       "State_UT                                                     \n",
       "ANDHRA PRADESH           113927.263123       1.6       9.2   \n",
       "ARUNACHAL PRADESH        105064.063534       2.1      34.7   \n",
       "ASSAM                     62795.613255       2.3      32.0   \n",
       "BIHAR                     31286.615814       3.2      33.7   \n",
       "CHHATTISGARH              75277.729630       2.4      39.9   \n",
       "GOA                      367226.470352       1.8       5.1   \n",
       "GUJARAT                  165358.840640       2.2      16.6   \n",
       "HARYANA                  176199.105299       2.2      11.2   \n",
       "HIMACHAL PRADESH         142155.416182       1.6       8.1   \n",
       "JAMMU & KASHMIR           70176.433858       1.6      10.4   \n",
       "JHARKHAND                 57863.383556       2.5      37.0   \n",
       "KARNATAKA                154860.523778       1.7      20.9   \n",
       "KERALA                   149563.403803       1.7       7.1   \n",
       "MADHYA PRADESH            62235.853700       2.7      31.7   \n",
       "MAHARASHTRA              152566.027356       1.7      17.4   \n",
       "MANIPUR                   53929.577766       1.4      36.9   \n",
       "MEGHALAYA                 66152.817705       2.9      11.9   \n",
       "MIZORAM                  148663.293637       2.3      20.4   \n",
       "NAGALAND                  75950.571466       2.5      18.9   \n",
       "ODISHA                    78679.820472       1.9      32.6   \n",
       "PUNJAB                   118847.980514       1.6       8.3   \n",
       "RAJASTHAN                 78390.327157       2.6      14.7   \n",
       "SIKKIM                   255771.759865       1.2       8.2   \n",
       "TAMIL NADU               153853.061757       1.6      11.3   \n",
       "TELANGANA                150641.390197       1.7       9.2   \n",
       "TRIPURA                   89681.663440       1.7      14.1   \n",
       "UTTAR PRADESH             44618.258685       3.0      29.4   \n",
       "UTTARAKHAND              158918.501479       1.9      11.3   \n",
       "WEST BENGAL               71757.350755       1.6      20.0   \n",
       "A & N ISLANDS            155046.234848       1.5       NaN   \n",
       "CHANDIGARH               234997.612958       1.8       NaN   \n",
       "D & N HAVELI                       NaN       2.3       NaN   \n",
       "DAMAN & DIU                        NaN       1.7       NaN   \n",
       "DELHI (UT)               274670.811733       1.5       9.9   \n",
       "LAKSHADWEEP                        NaN       1.9       NaN   \n",
       "PUDUCHERRY               141918.255672       1.6       9.7   \n",
       "\n",
       "                   Mean_Asset_Score_2016  Gini_Coefficient_2016  \n",
       "State_UT                                                         \n",
       "ANDHRA PRADESH                     0.357                  0.270  \n",
       "ARUNACHAL PRADESH                  0.331                  0.306  \n",
       "ASSAM                              0.313                  0.289  \n",
       "BIHAR                              0.227                  0.401  \n",
       "CHHATTISGARH                       0.312                  0.342  \n",
       "GOA                                0.576                  0.180  \n",
       "GUJARAT                            0.410                  0.269  \n",
       "HARYANA                            0.516                  0.200  \n",
       "HIMACHAL PRADESH                   0.491                  0.200  \n",
       "JAMMU & KASHMIR                    0.444                  0.256  \n",
       "JHARKHAND                          0.255                  0.396  \n",
       "KARNATAKA                          0.410                  0.257  \n",
       "KERALA                             0.577                  0.169  \n",
       "MADHYA PRADESH                     0.316                  0.376  \n",
       "MAHARASHTRA                        0.408                  0.275  \n",
       "MANIPUR                            0.403                  0.256  \n",
       "MEGHALAYA                          0.326                  0.270  \n",
       "MIZORAM                            0.458                  0.252  \n",
       "NAGALAND                           0.355                  0.274  \n",
       "ODISHA                             0.274                  0.360  \n",
       "PUNJAB                             0.580                  0.164  \n",
       "RAJASTHAN                          0.355                  0.340  \n",
       "SIKKIM                             0.396                  0.163  \n",
       "TAMIL NADU                         0.435                  0.237  \n",
       "TELANGANA                          0.357                  0.270  \n",
       "TRIPURA                            0.326                  0.263  \n",
       "UTTAR PRADESH                      0.319                  0.363  \n",
       "UTTARAKHAND                        0.434                  0.254  \n",
       "WEST BENGAL                        0.311                  0.312  \n",
       "A & N ISLANDS                        NaN                    NaN  \n",
       "CHANDIGARH                           NaN                    NaN  \n",
       "D & N HAVELI                         NaN                    NaN  \n",
       "DAMAN & DIU                          NaN                    NaN  \n",
       "DELHI (UT)                         0.533                  0.194  \n",
       "LAKSHADWEEP                          NaN                    NaN  \n",
       "PUDUCHERRY                           NaN                    NaN  \n",
       "\n",
       "[36 rows x 25 columns]"
      ]
     },
     "execution_count": 62,
     "metadata": {},
     "output_type": "execute_result"
    }
   ],
   "source": [
    "master.head(40)"
   ]
  },
  {
   "cell_type": "code",
   "execution_count": 63,
   "metadata": {
    "ExecuteTime": {
     "end_time": "2021-08-21T12:11:57.054793Z",
     "start_time": "2021-08-21T12:11:57.041633Z"
    }
   },
   "outputs": [],
   "source": [
    "## Capturing two of the dropped columns in order to add back to the workbook containing cluster information\n",
    "Total_suicides = master['Number_Suicides']\n",
    "State_Pop = master['Pop_in_Lakh']"
   ]
  },
  {
   "cell_type": "code",
   "execution_count": 64,
   "metadata": {
    "ExecuteTime": {
     "end_time": "2021-08-21T12:11:57.070712Z",
     "start_time": "2021-08-21T12:11:57.060712Z"
    }
   },
   "outputs": [],
   "source": [
    "master.columns\n",
    "drop_cols = [\"Sl. No.\",'Male_suicides', 'Female_suicides', 'Transgender_suicides',\n",
    "       'Number_Suicides', 'Perc_share', 'Pop_in_Lakh']"
   ]
  },
  {
   "cell_type": "code",
   "execution_count": 65,
   "metadata": {
    "ExecuteTime": {
     "end_time": "2021-08-21T12:11:57.086184Z",
     "start_time": "2021-08-21T12:11:57.075713Z"
    }
   },
   "outputs": [],
   "source": [
    "master.drop(columns = drop_cols, axis=1,inplace=True)"
   ]
  },
  {
   "cell_type": "code",
   "execution_count": 66,
   "metadata": {
    "ExecuteTime": {
     "end_time": "2021-08-21T12:11:57.102222Z",
     "start_time": "2021-08-21T12:11:57.089153Z"
    }
   },
   "outputs": [
    {
     "data": {
      "text/plain": [
       "(36, 18)"
      ]
     },
     "execution_count": 66,
     "metadata": {},
     "output_type": "execute_result"
    }
   ],
   "source": [
    "master.shape"
   ]
  },
  {
   "cell_type": "code",
   "execution_count": 67,
   "metadata": {
    "ExecuteTime": {
     "end_time": "2021-08-21T12:11:57.228780Z",
     "start_time": "2021-08-21T12:11:57.105150Z"
    }
   },
   "outputs": [
    {
     "data": {
      "text/html": [
       "<div>\n",
       "<style scoped>\n",
       "    .dataframe tbody tr th:only-of-type {\n",
       "        vertical-align: middle;\n",
       "    }\n",
       "\n",
       "    .dataframe tbody tr th {\n",
       "        vertical-align: top;\n",
       "    }\n",
       "\n",
       "    .dataframe thead th {\n",
       "        text-align: right;\n",
       "    }\n",
       "</style>\n",
       "<table border=\"1\" class=\"dataframe\">\n",
       "  <thead>\n",
       "    <tr style=\"text-align: right;\">\n",
       "      <th></th>\n",
       "      <th>count</th>\n",
       "      <th>mean</th>\n",
       "      <th>std</th>\n",
       "      <th>min</th>\n",
       "      <th>25%</th>\n",
       "      <th>50%</th>\n",
       "      <th>75%</th>\n",
       "      <th>max</th>\n",
       "    </tr>\n",
       "  </thead>\n",
       "  <tbody>\n",
       "    <tr>\n",
       "      <th>Male_suicide_rate</th>\n",
       "      <td>36.0</td>\n",
       "      <td>9.169160</td>\n",
       "      <td>7.345465</td>\n",
       "      <td>0.000000</td>\n",
       "      <td>4.438789</td>\n",
       "      <td>7.726759</td>\n",
       "      <td>12.488192</td>\n",
       "      <td>32.500000</td>\n",
       "    </tr>\n",
       "    <tr>\n",
       "      <th>Female_suicide_rate</th>\n",
       "      <td>36.0</td>\n",
       "      <td>3.646815</td>\n",
       "      <td>2.788660</td>\n",
       "      <td>0.000000</td>\n",
       "      <td>1.573666</td>\n",
       "      <td>3.463575</td>\n",
       "      <td>5.097100</td>\n",
       "      <td>12.750000</td>\n",
       "    </tr>\n",
       "    <tr>\n",
       "      <th>Suicide_Rate</th>\n",
       "      <td>36.0</td>\n",
       "      <td>12.833333</td>\n",
       "      <td>10.070948</td>\n",
       "      <td>0.000000</td>\n",
       "      <td>5.875000</td>\n",
       "      <td>11.150000</td>\n",
       "      <td>17.100000</td>\n",
       "      <td>45.500000</td>\n",
       "    </tr>\n",
       "    <tr>\n",
       "      <th>Female_lit_rate</th>\n",
       "      <td>36.0</td>\n",
       "      <td>70.522222</td>\n",
       "      <td>11.003041</td>\n",
       "      <td>51.500000</td>\n",
       "      <td>59.950000</td>\n",
       "      <td>70.400000</td>\n",
       "      <td>79.800000</td>\n",
       "      <td>92.100000</td>\n",
       "    </tr>\n",
       "    <tr>\n",
       "      <th>Male_lit_rate</th>\n",
       "      <td>36.0</td>\n",
       "      <td>84.055556</td>\n",
       "      <td>6.790685</td>\n",
       "      <td>71.200000</td>\n",
       "      <td>78.475000</td>\n",
       "      <td>83.850000</td>\n",
       "      <td>90.075000</td>\n",
       "      <td>96.100000</td>\n",
       "    </tr>\n",
       "    <tr>\n",
       "      <th>Total_lit_rate</th>\n",
       "      <td>36.0</td>\n",
       "      <td>77.544444</td>\n",
       "      <td>8.650234</td>\n",
       "      <td>61.800000</td>\n",
       "      <td>70.050000</td>\n",
       "      <td>76.600000</td>\n",
       "      <td>85.850000</td>\n",
       "      <td>94.000000</td>\n",
       "    </tr>\n",
       "    <tr>\n",
       "      <th>Average_2019_Unemployment</th>\n",
       "      <td>27.0</td>\n",
       "      <td>8.674074</td>\n",
       "      <td>6.234478</td>\n",
       "      <td>1.541667</td>\n",
       "      <td>4.720833</td>\n",
       "      <td>6.416667</td>\n",
       "      <td>11.233333</td>\n",
       "      <td>27.391667</td>\n",
       "    </tr>\n",
       "    <tr>\n",
       "      <th>QoW_sedatives</th>\n",
       "      <td>36.0</td>\n",
       "      <td>0.442778</td>\n",
       "      <td>0.588157</td>\n",
       "      <td>0.010000</td>\n",
       "      <td>0.127500</td>\n",
       "      <td>0.225000</td>\n",
       "      <td>0.422500</td>\n",
       "      <td>2.910000</td>\n",
       "    </tr>\n",
       "    <tr>\n",
       "      <th>QoW_Opioids</th>\n",
       "      <td>36.0</td>\n",
       "      <td>1.630556</td>\n",
       "      <td>1.817505</td>\n",
       "      <td>0.100000</td>\n",
       "      <td>0.500000</td>\n",
       "      <td>0.800000</td>\n",
       "      <td>2.075000</td>\n",
       "      <td>6.900000</td>\n",
       "    </tr>\n",
       "    <tr>\n",
       "      <th>Ganja</th>\n",
       "      <td>36.0</td>\n",
       "      <td>1.547222</td>\n",
       "      <td>1.759624</td>\n",
       "      <td>0.000000</td>\n",
       "      <td>0.200000</td>\n",
       "      <td>0.700000</td>\n",
       "      <td>2.825000</td>\n",
       "      <td>7.300000</td>\n",
       "    </tr>\n",
       "    <tr>\n",
       "      <th>Alcohol_total_perc</th>\n",
       "      <td>36.0</td>\n",
       "      <td>26.875000</td>\n",
       "      <td>16.280038</td>\n",
       "      <td>0.100000</td>\n",
       "      <td>13.900000</td>\n",
       "      <td>28.850000</td>\n",
       "      <td>40.125000</td>\n",
       "      <td>62.100000</td>\n",
       "    </tr>\n",
       "    <tr>\n",
       "      <th>Alcohol_men_perc</th>\n",
       "      <td>36.0</td>\n",
       "      <td>14.811111</td>\n",
       "      <td>9.405797</td>\n",
       "      <td>0.200000</td>\n",
       "      <td>7.475000</td>\n",
       "      <td>14.950000</td>\n",
       "      <td>21.375000</td>\n",
       "      <td>35.600000</td>\n",
       "    </tr>\n",
       "    <tr>\n",
       "      <th>Top10_alcoholics_needing_help</th>\n",
       "      <td>36.0</td>\n",
       "      <td>1.361111</td>\n",
       "      <td>2.587362</td>\n",
       "      <td>0.000000</td>\n",
       "      <td>0.000000</td>\n",
       "      <td>0.000000</td>\n",
       "      <td>1.250000</td>\n",
       "      <td>9.000000</td>\n",
       "    </tr>\n",
       "    <tr>\n",
       "      <th>Percapita_NSDP_2019</th>\n",
       "      <td>33.0</td>\n",
       "      <td>128455.940424</td>\n",
       "      <td>73736.379653</td>\n",
       "      <td>31286.615814</td>\n",
       "      <td>71757.350755</td>\n",
       "      <td>118847.980514</td>\n",
       "      <td>154860.523778</td>\n",
       "      <td>367226.470352</td>\n",
       "    </tr>\n",
       "    <tr>\n",
       "      <th>TFR_2017</th>\n",
       "      <td>36.0</td>\n",
       "      <td>1.986111</td>\n",
       "      <td>0.489404</td>\n",
       "      <td>1.200000</td>\n",
       "      <td>1.600000</td>\n",
       "      <td>1.800000</td>\n",
       "      <td>2.300000</td>\n",
       "      <td>3.200000</td>\n",
       "    </tr>\n",
       "    <tr>\n",
       "      <th>Perc_BPL</th>\n",
       "      <td>31.0</td>\n",
       "      <td>18.767742</td>\n",
       "      <td>10.913093</td>\n",
       "      <td>5.100000</td>\n",
       "      <td>9.800000</td>\n",
       "      <td>14.700000</td>\n",
       "      <td>30.550000</td>\n",
       "      <td>39.900000</td>\n",
       "    </tr>\n",
       "    <tr>\n",
       "      <th>Mean_Asset_Score_2016</th>\n",
       "      <td>30.0</td>\n",
       "      <td>0.393500</td>\n",
       "      <td>0.096128</td>\n",
       "      <td>0.227000</td>\n",
       "      <td>0.320750</td>\n",
       "      <td>0.376500</td>\n",
       "      <td>0.441750</td>\n",
       "      <td>0.580000</td>\n",
       "    </tr>\n",
       "    <tr>\n",
       "      <th>Gini_Coefficient_2016</th>\n",
       "      <td>30.0</td>\n",
       "      <td>0.271933</td>\n",
       "      <td>0.067797</td>\n",
       "      <td>0.163000</td>\n",
       "      <td>0.240750</td>\n",
       "      <td>0.269500</td>\n",
       "      <td>0.310500</td>\n",
       "      <td>0.401000</td>\n",
       "    </tr>\n",
       "  </tbody>\n",
       "</table>\n",
       "</div>"
      ],
      "text/plain": [
       "                               count           mean           std  \\\n",
       "Male_suicide_rate               36.0       9.169160      7.345465   \n",
       "Female_suicide_rate             36.0       3.646815      2.788660   \n",
       "Suicide_Rate                    36.0      12.833333     10.070948   \n",
       "Female_lit_rate                 36.0      70.522222     11.003041   \n",
       "Male_lit_rate                   36.0      84.055556      6.790685   \n",
       "Total_lit_rate                  36.0      77.544444      8.650234   \n",
       "Average_2019_Unemployment       27.0       8.674074      6.234478   \n",
       "QoW_sedatives                   36.0       0.442778      0.588157   \n",
       "QoW_Opioids                     36.0       1.630556      1.817505   \n",
       "Ganja                           36.0       1.547222      1.759624   \n",
       "Alcohol_total_perc              36.0      26.875000     16.280038   \n",
       "Alcohol_men_perc                36.0      14.811111      9.405797   \n",
       "Top10_alcoholics_needing_help   36.0       1.361111      2.587362   \n",
       "Percapita_NSDP_2019             33.0  128455.940424  73736.379653   \n",
       "TFR_2017                        36.0       1.986111      0.489404   \n",
       "Perc_BPL                        31.0      18.767742     10.913093   \n",
       "Mean_Asset_Score_2016           30.0       0.393500      0.096128   \n",
       "Gini_Coefficient_2016           30.0       0.271933      0.067797   \n",
       "\n",
       "                                        min           25%            50%  \\\n",
       "Male_suicide_rate                  0.000000      4.438789       7.726759   \n",
       "Female_suicide_rate                0.000000      1.573666       3.463575   \n",
       "Suicide_Rate                       0.000000      5.875000      11.150000   \n",
       "Female_lit_rate                   51.500000     59.950000      70.400000   \n",
       "Male_lit_rate                     71.200000     78.475000      83.850000   \n",
       "Total_lit_rate                    61.800000     70.050000      76.600000   \n",
       "Average_2019_Unemployment          1.541667      4.720833       6.416667   \n",
       "QoW_sedatives                      0.010000      0.127500       0.225000   \n",
       "QoW_Opioids                        0.100000      0.500000       0.800000   \n",
       "Ganja                              0.000000      0.200000       0.700000   \n",
       "Alcohol_total_perc                 0.100000     13.900000      28.850000   \n",
       "Alcohol_men_perc                   0.200000      7.475000      14.950000   \n",
       "Top10_alcoholics_needing_help      0.000000      0.000000       0.000000   \n",
       "Percapita_NSDP_2019            31286.615814  71757.350755  118847.980514   \n",
       "TFR_2017                           1.200000      1.600000       1.800000   \n",
       "Perc_BPL                           5.100000      9.800000      14.700000   \n",
       "Mean_Asset_Score_2016              0.227000      0.320750       0.376500   \n",
       "Gini_Coefficient_2016              0.163000      0.240750       0.269500   \n",
       "\n",
       "                                         75%            max  \n",
       "Male_suicide_rate                  12.488192      32.500000  \n",
       "Female_suicide_rate                 5.097100      12.750000  \n",
       "Suicide_Rate                       17.100000      45.500000  \n",
       "Female_lit_rate                    79.800000      92.100000  \n",
       "Male_lit_rate                      90.075000      96.100000  \n",
       "Total_lit_rate                     85.850000      94.000000  \n",
       "Average_2019_Unemployment          11.233333      27.391667  \n",
       "QoW_sedatives                       0.422500       2.910000  \n",
       "QoW_Opioids                         2.075000       6.900000  \n",
       "Ganja                               2.825000       7.300000  \n",
       "Alcohol_total_perc                 40.125000      62.100000  \n",
       "Alcohol_men_perc                   21.375000      35.600000  \n",
       "Top10_alcoholics_needing_help       1.250000       9.000000  \n",
       "Percapita_NSDP_2019            154860.523778  367226.470352  \n",
       "TFR_2017                            2.300000       3.200000  \n",
       "Perc_BPL                           30.550000      39.900000  \n",
       "Mean_Asset_Score_2016               0.441750       0.580000  \n",
       "Gini_Coefficient_2016               0.310500       0.401000  "
      ]
     },
     "execution_count": 67,
     "metadata": {},
     "output_type": "execute_result"
    }
   ],
   "source": [
    "master.describe().T"
   ]
  },
  {
   "cell_type": "code",
   "execution_count": 68,
   "metadata": {
    "ExecuteTime": {
     "end_time": "2021-08-21T12:12:02.276137Z",
     "start_time": "2021-08-21T12:11:57.232209Z"
    }
   },
   "outputs": [
    {
     "data": {
      "image/png": "[encoded data removed]",
      "text/plain": [
       "<Figure size 432x288 with 1 Axes>"
      ]
     },
     "metadata": {
      "needs_background": "light"
     },
     "output_type": "display_data"
    },
    {
     "data": {
      "image/png": "[encoded data removed]",
      "text/plain": [
       "<Figure size 432x288 with 1 Axes>"
      ]
     },
     "metadata": {
      "needs_background": "light"
     },
     "output_type": "display_data"
    },
    {
     "data": {
      "image/png": "[encoded data removed]",
      "text/plain": [
       "<Figure size 432x288 with 1 Axes>"
      ]
     },
     "metadata": {
      "needs_background": "light"
     },
     "output_type": "display_data"
    },
    {
     "data": {
      "image/png": "[encoded data removed]",
      "text/plain": [
       "<Figure size 432x288 with 1 Axes>"
      ]
     },
     "metadata": {
      "needs_background": "light"
     },
     "output_type": "display_data"
    },
    {
     "data": {
      "image/png": "[encoded data removed]",
      "text/plain": [
       "<Figure size 432x288 with 1 Axes>"
      ]
     },
     "metadata": {
      "needs_background": "light"
     },
     "output_type": "display_data"
    },
    {
     "data": {
      "image/png": "[encoded data removed]",
      "text/plain": [
       "<Figure size 432x288 with 1 Axes>"
      ]
     },
     "metadata": {
      "needs_background": "light"
     },
     "output_type": "display_data"
    },
    {
     "data": {
      "image/png": "[encoded data removed]",
      "text/plain": [
       "<Figure size 432x288 with 1 Axes>"
      ]
     },
     "metadata": {
      "needs_background": "light"
     },
     "output_type": "display_data"
    },
    {
     "data": {
      "image/png": "[encoded data removed]",
      "text/plain": [
       "<Figure size 432x288 with 1 Axes>"
      ]
     },
     "metadata": {
      "needs_background": "light"
     },
     "output_type": "display_data"
    },
    {
     "data": {
      "image/png": "[encoded data removed]",
      "text/plain": [
       "<Figure size 432x288 with 1 Axes>"
      ]
     },
     "metadata": {
      "needs_background": "light"
     },
     "output_type": "display_data"
    },
    {
     "data": {
      "image/png": "[encoded data removed]",
      "text/plain": [
       "<Figure size 432x288 with 1 Axes>"
      ]
     },
     "metadata": {
      "needs_background": "light"
     },
     "output_type": "display_data"
    },
    {
     "data": {
      "image/png": "[encoded data removed]",
      "text/plain": [
       "<Figure size 432x288 with 1 Axes>"
      ]
     },
     "metadata": {
      "needs_background": "light"
     },
     "output_type": "display_data"
    },
    {
     "data": {
      "image/png": "[encoded data removed]",
      "text/plain": [
       "<Figure size 432x288 with 1 Axes>"
      ]
     },
     "metadata": {
      "needs_background": "light"
     },
     "output_type": "display_data"
    },
    {
     "data": {
      "image/png": "[encoded data removed]",
      "text/plain": [
       "<Figure size 432x288 with 1 Axes>"
      ]
     },
     "metadata": {
      "needs_background": "light"
     },
     "output_type": "display_data"
    },
    {
     "data": {
      "image/png": "[encoded data removed]",
      "text/plain": [
       "<Figure size 432x288 with 1 Axes>"
      ]
     },
     "metadata": {
      "needs_background": "light"
     },
     "output_type": "display_data"
    },
    {
     "data": {
      "image/png": "[encoded data removed]",
      "text/plain": [
       "<Figure size 432x288 with 1 Axes>"
      ]
     },
     "metadata": {
      "needs_background": "light"
     },
     "output_type": "display_data"
    },
    {
     "data": {
      "image/png": "[encoded data removed]",
      "text/plain": [
       "<Figure size 432x288 with 1 Axes>"
      ]
     },
     "metadata": {
      "needs_background": "light"
     },
     "output_type": "display_data"
    },
    {
     "data": {
      "image/png": "[encoded data removed]",
      "text/plain": [
       "<Figure size 432x288 with 1 Axes>"
      ]
     },
     "metadata": {
      "needs_background": "light"
     },
     "output_type": "display_data"
    },
    {
     "data": {
      "image/png": "[encoded data removed]",
      "text/plain": [
       "<Figure size 432x288 with 1 Axes>"
      ]
     },
     "metadata": {
      "needs_background": "light"
     },
     "output_type": "display_data"
    }
   ],
   "source": [
    "for i in master.columns:\n",
    "    sns.scatterplot(data=master, x='Suicide_Rate', y=i)\n",
    "    plt.show()\n",
    "    "
   ]
  },
  {
   "cell_type": "code",
   "execution_count": 69,
   "metadata": {
    "ExecuteTime": {
     "end_time": "2021-08-21T12:12:05.250835Z",
     "start_time": "2021-08-21T12:12:02.280066Z"
    }
   },
   "outputs": [
    {
     "data": {
      "image/png": "[encoded data removed]",
      "text/plain": [
       "<Figure size 1008x864 with 2 Axes>"
      ]
     },
     "metadata": {
      "needs_background": "light"
     },
     "output_type": "display_data"
    }
   ],
   "source": [
    "corr = master.corr()\n",
    "\n",
    "mask = np.triu( np.ones_like(corr, dtype= np.bool))\n",
    "plt.figure(figsize = (14,12))\n",
    "## sns.set(font_scale=1.2) ## instead of annot_kws={‘size’:12}\n",
    "sns.heatmap(round(corr,2), annot=True, mask=mask, cmap='plasma', vmin=-1, vmax=1, annot_kws={'size':10})\n",
    "plt.title(\"Correlation heatmap\");\n"
   ]
  },
  {
   "cell_type": "code",
   "execution_count": 70,
   "metadata": {
    "ExecuteTime": {
     "end_time": "2021-08-21T12:12:05.282147Z",
     "start_time": "2021-08-21T12:12:05.254902Z"
    }
   },
   "outputs": [
    {
     "data": {
      "text/plain": [
       "Mean_Asset_Score_2016  Gini_Coefficient_2016   -0.877381\n",
       "Gini_Coefficient_2016  Mean_Asset_Score_2016   -0.877381\n",
       "                       Percapita_NSDP_2019     -0.710590\n",
       "Percapita_NSDP_2019    Gini_Coefficient_2016   -0.710590\n",
       "Female_lit_rate        Gini_Coefficient_2016   -0.707192\n",
       "                                                  ...   \n",
       "                       Total_lit_rate           0.982593\n",
       "Alcohol_total_perc     Alcohol_men_perc         0.986100\n",
       "Alcohol_men_perc       Alcohol_total_perc       0.986100\n",
       "Suicide_Rate           Male_suicide_rate        0.996113\n",
       "Male_suicide_rate      Suicide_Rate             0.996113\n",
       "Length: 62, dtype: float64"
      ]
     },
     "execution_count": 70,
     "metadata": {},
     "output_type": "execute_result"
    }
   ],
   "source": [
    "corr_pairs = corr.unstack()\n",
    "sorted_pairs = corr_pairs.sort_values()\n",
    "strong_pairs = sorted_pairs[(abs(sorted_pairs) > 0.5) & (abs(sorted_pairs) < 1)]  #direction not represented as we have taken absolute values\n",
    "strong_pairs"
   ]
  },
  {
   "cell_type": "code",
   "execution_count": 71,
   "metadata": {
    "ExecuteTime": {
     "end_time": "2021-08-21T12:12:05.298291Z",
     "start_time": "2021-08-21T12:12:05.288151Z"
    }
   },
   "outputs": [],
   "source": [
    "### Dropping columns that have too much correlation & creating correaltion heatmap again"
   ]
  },
  {
   "cell_type": "code",
   "execution_count": 72,
   "metadata": {
    "ExecuteTime": {
     "end_time": "2021-08-21T12:12:05.329961Z",
     "start_time": "2021-08-21T12:12:05.303006Z"
    }
   },
   "outputs": [],
   "source": [
    "drop_cols1 = ['Male_suicide_rate', 'Female_suicide_rate','Alcohol_men_perc','Female_lit_rate', 'Male_lit_rate', 'Top10_alcoholics_needing_help']\n",
    "\n",
    "master.drop(columns = drop_cols1, axis=1,inplace=True)"
   ]
  },
  {
   "cell_type": "code",
   "execution_count": 73,
   "metadata": {
    "ExecuteTime": {
     "end_time": "2021-08-21T12:12:07.125667Z",
     "start_time": "2021-08-21T12:12:05.334258Z"
    }
   },
   "outputs": [
    {
     "data": {
      "image/png": "[encoded data removed]",
      "text/plain": [
       "<Figure size 1008x864 with 2 Axes>"
      ]
     },
     "metadata": {
      "needs_background": "light"
     },
     "output_type": "display_data"
    }
   ],
   "source": [
    "corr = master.corr()\n",
    "\n",
    "mask = np.triu( np.ones_like(corr, dtype= np.bool))\n",
    "plt.figure(figsize = (14,12))\n",
    "## sns.set(font_scale=1.2) ## instead of annot_kws={‘size’:12}\n",
    "sns.heatmap(round(corr,2), annot=True, mask=mask, cmap='plasma', vmin=-1, vmax=1, annot_kws={'size':10})\n",
    "plt.title(\"Correlation heatmap after dropping highly correlated variables\");"
   ]
  },
  {
   "cell_type": "code",
   "execution_count": 74,
   "metadata": {
    "ExecuteTime": {
     "end_time": "2021-08-21T12:12:07.157818Z",
     "start_time": "2021-08-21T12:12:07.129598Z"
    }
   },
   "outputs": [
    {
     "data": {
      "text/plain": [
       "Mean_Asset_Score_2016  Gini_Coefficient_2016   -0.88\n",
       "Gini_Coefficient_2016  Mean_Asset_Score_2016   -0.88\n",
       "Percapita_NSDP_2019    Gini_Coefficient_2016   -0.71\n",
       "Gini_Coefficient_2016  Percapita_NSDP_2019     -0.71\n",
       "                       Total_lit_rate          -0.70\n",
       "Total_lit_rate         Gini_Coefficient_2016   -0.70\n",
       "Perc_BPL               Mean_Asset_Score_2016   -0.70\n",
       "Mean_Asset_Score_2016  Perc_BPL                -0.70\n",
       "Perc_BPL               Percapita_NSDP_2019     -0.62\n",
       "Percapita_NSDP_2019    Perc_BPL                -0.62\n",
       "TFR_2017               Mean_Asset_Score_2016   -0.53\n",
       "Mean_Asset_Score_2016  TFR_2017                -0.53\n",
       "Total_lit_rate         Perc_BPL                -0.51\n",
       "Perc_BPL               Total_lit_rate          -0.51\n",
       "Percapita_NSDP_2019    TFR_2017                -0.51\n",
       "TFR_2017               Percapita_NSDP_2019     -0.51\n",
       "Perc_BPL               TFR_2017                 0.50\n",
       "TFR_2017               Perc_BPL                 0.50\n",
       "Total_lit_rate         Percapita_NSDP_2019      0.62\n",
       "Percapita_NSDP_2019    Total_lit_rate           0.62\n",
       "Total_lit_rate         Mean_Asset_Score_2016    0.66\n",
       "Mean_Asset_Score_2016  Total_lit_rate           0.66\n",
       "Gini_Coefficient_2016  TFR_2017                 0.69\n",
       "TFR_2017               Gini_Coefficient_2016    0.69\n",
       "Percapita_NSDP_2019    Mean_Asset_Score_2016    0.70\n",
       "Mean_Asset_Score_2016  Percapita_NSDP_2019      0.70\n",
       "QoW_Opioids            Ganja                    0.71\n",
       "Ganja                  QoW_Opioids              0.71\n",
       "                       QoW_sedatives            0.77\n",
       "QoW_sedatives          Ganja                    0.77\n",
       "Gini_Coefficient_2016  Perc_BPL                 0.78\n",
       "Perc_BPL               Gini_Coefficient_2016    0.78\n",
       "QoW_Opioids            QoW_sedatives            0.81\n",
       "QoW_sedatives          QoW_Opioids              0.81\n",
       "dtype: float64"
      ]
     },
     "execution_count": 74,
     "metadata": {},
     "output_type": "execute_result"
    }
   ],
   "source": [
    "corr_pairs = corr.unstack()\n",
    "sorted_pairs = corr_pairs.sort_values()\n",
    "strong_pairs = sorted_pairs[(abs(sorted_pairs) > 0.5) & (abs(sorted_pairs) < 1)]  #direction not represented as we have taken absolute values\n",
    "round(strong_pairs,2)"
   ]
  },
  {
   "cell_type": "markdown",
   "metadata": {},
   "source": [
    "#### Observations: <br> \n",
    "<i> For the purpose of this analysis correlation above 0.7 and below -0.7 are considered to be strong </i>\n",
    "1. Gini coefficient (measure of distribution of income across a population) has a strong negative correlation with Mean asset score, Per Capita GDP and Literacy rates.\n",
    "2. Gini coefficient has a strong positive correlation with Percentage BPL.\n",
    "3. Mean asset score has a negative correlation with Percentage BPL.\n",
    "4. Various substance abuse scores are all strongly correlated with each other. \n",
    "5. Percapita GDP and Mean asset score have a strong positive correlation.\n",
    "\n",
    "<i> For the purpose of this analysis correlation between 0.5 to 0.7 and -0.7 to -0.5 are considered to be moderate </i> <br>\n",
    "1. Gini coefficient and total fertility rates have a moderate positive correlation.\n",
    "2. Total literacy rate has a moderate positive correlation with Per capita GDP and Mean asset score.\n",
    "3. Total fertility rate has a moderate negative correlation with Per capita GDP and Mean asset score.\n",
    "4. Percentage below poverty line has a moderate negative correlation with per capita GDP and Literacy rate.\n",
    "\n",
    "<b> <u> Suicide rate </u> </b> <br>\n",
    "Suicide rate shows a weak negative correlation with Total Fertility Rate (-0.44) and Gini coefficient (-0.38). <br>\n",
    "It shows a weak positive correlation with Alcoholic Total Percentage (0.38)"
   ]
  },
  {
   "cell_type": "markdown",
   "metadata": {},
   "source": [
    "##### Null treatment"
   ]
  },
  {
   "cell_type": "code",
   "execution_count": 75,
   "metadata": {
    "ExecuteTime": {
     "end_time": "2021-08-21T12:12:07.187624Z",
     "start_time": "2021-08-21T12:12:07.160820Z"
    }
   },
   "outputs": [
    {
     "data": {
      "text/plain": [
       "Suicide_Rate                 0\n",
       "Total_lit_rate               0\n",
       "Average_2019_Unemployment    9\n",
       "QoW_sedatives                0\n",
       "QoW_Opioids                  0\n",
       "Ganja                        0\n",
       "Alcohol_total_perc           0\n",
       "Percapita_NSDP_2019          3\n",
       "TFR_2017                     0\n",
       "Perc_BPL                     5\n",
       "Mean_Asset_Score_2016        6\n",
       "Gini_Coefficient_2016        6\n",
       "dtype: int64"
      ]
     },
     "execution_count": 75,
     "metadata": {},
     "output_type": "execute_result"
    }
   ],
   "source": [
    "master.isna().sum()"
   ]
  },
  {
   "cell_type": "code",
   "execution_count": 76,
   "metadata": {
    "ExecuteTime": {
     "end_time": "2021-08-21T12:12:07.235455Z",
     "start_time": "2021-08-21T12:12:07.191620Z"
    }
   },
   "outputs": [
    {
     "data": {
      "text/html": [
       "<div>\n",
       "<style scoped>\n",
       "    .dataframe tbody tr th:only-of-type {\n",
       "        vertical-align: middle;\n",
       "    }\n",
       "\n",
       "    .dataframe tbody tr th {\n",
       "        vertical-align: top;\n",
       "    }\n",
       "\n",
       "    .dataframe thead th {\n",
       "        text-align: right;\n",
       "    }\n",
       "</style>\n",
       "<table border=\"1\" class=\"dataframe\">\n",
       "  <thead>\n",
       "    <tr style=\"text-align: right;\">\n",
       "      <th></th>\n",
       "      <th>Suicide_Rate</th>\n",
       "      <th>Total_lit_rate</th>\n",
       "      <th>Average_2019_Unemployment</th>\n",
       "      <th>QoW_sedatives</th>\n",
       "      <th>QoW_Opioids</th>\n",
       "      <th>Ganja</th>\n",
       "      <th>Alcohol_total_perc</th>\n",
       "      <th>Percapita_NSDP_2019</th>\n",
       "      <th>TFR_2017</th>\n",
       "      <th>Perc_BPL</th>\n",
       "      <th>Mean_Asset_Score_2016</th>\n",
       "      <th>Gini_Coefficient_2016</th>\n",
       "    </tr>\n",
       "    <tr>\n",
       "      <th>State_UT</th>\n",
       "      <th></th>\n",
       "      <th></th>\n",
       "      <th></th>\n",
       "      <th></th>\n",
       "      <th></th>\n",
       "      <th></th>\n",
       "      <th></th>\n",
       "      <th></th>\n",
       "      <th></th>\n",
       "      <th></th>\n",
       "      <th></th>\n",
       "      <th></th>\n",
       "    </tr>\n",
       "  </thead>\n",
       "  <tbody>\n",
       "    <tr>\n",
       "      <th>A &amp; N ISLANDS</th>\n",
       "      <td>45.5</td>\n",
       "      <td>86.6</td>\n",
       "      <td>NaN</td>\n",
       "      <td>0.16</td>\n",
       "      <td>0.5</td>\n",
       "      <td>0.1</td>\n",
       "      <td>47.1</td>\n",
       "      <td>155046.234848</td>\n",
       "      <td>1.5</td>\n",
       "      <td>NaN</td>\n",
       "      <td>NaN</td>\n",
       "      <td>NaN</td>\n",
       "    </tr>\n",
       "    <tr>\n",
       "      <th>CHANDIGARH</th>\n",
       "      <td>11.1</td>\n",
       "      <td>86.0</td>\n",
       "      <td>NaN</td>\n",
       "      <td>0.28</td>\n",
       "      <td>0.9</td>\n",
       "      <td>0.4</td>\n",
       "      <td>32.3</td>\n",
       "      <td>234997.612958</td>\n",
       "      <td>1.8</td>\n",
       "      <td>NaN</td>\n",
       "      <td>NaN</td>\n",
       "      <td>NaN</td>\n",
       "    </tr>\n",
       "    <tr>\n",
       "      <th>D &amp; N HAVELI</th>\n",
       "      <td>17.1</td>\n",
       "      <td>76.2</td>\n",
       "      <td>NaN</td>\n",
       "      <td>0.05</td>\n",
       "      <td>0.5</td>\n",
       "      <td>0.1</td>\n",
       "      <td>19.5</td>\n",
       "      <td>NaN</td>\n",
       "      <td>2.3</td>\n",
       "      <td>NaN</td>\n",
       "      <td>NaN</td>\n",
       "      <td>NaN</td>\n",
       "    </tr>\n",
       "    <tr>\n",
       "      <th>DAMAN &amp; DIU</th>\n",
       "      <td>10.9</td>\n",
       "      <td>87.1</td>\n",
       "      <td>NaN</td>\n",
       "      <td>0.03</td>\n",
       "      <td>2.5</td>\n",
       "      <td>1.3</td>\n",
       "      <td>29.4</td>\n",
       "      <td>NaN</td>\n",
       "      <td>1.7</td>\n",
       "      <td>NaN</td>\n",
       "      <td>NaN</td>\n",
       "      <td>NaN</td>\n",
       "    </tr>\n",
       "    <tr>\n",
       "      <th>LAKSHADWEEP</th>\n",
       "      <td>0.0</td>\n",
       "      <td>91.8</td>\n",
       "      <td>NaN</td>\n",
       "      <td>0.21</td>\n",
       "      <td>0.6</td>\n",
       "      <td>0.1</td>\n",
       "      <td>0.1</td>\n",
       "      <td>NaN</td>\n",
       "      <td>1.9</td>\n",
       "      <td>NaN</td>\n",
       "      <td>NaN</td>\n",
       "      <td>NaN</td>\n",
       "    </tr>\n",
       "    <tr>\n",
       "      <th>PUDUCHERRY</th>\n",
       "      <td>32.5</td>\n",
       "      <td>85.8</td>\n",
       "      <td>1.541667</td>\n",
       "      <td>0.74</td>\n",
       "      <td>0.6</td>\n",
       "      <td>0.0</td>\n",
       "      <td>20.0</td>\n",
       "      <td>141918.255672</td>\n",
       "      <td>1.6</td>\n",
       "      <td>9.7</td>\n",
       "      <td>NaN</td>\n",
       "      <td>NaN</td>\n",
       "    </tr>\n",
       "  </tbody>\n",
       "</table>\n",
       "</div>"
      ],
      "text/plain": [
       "               Suicide_Rate  Total_lit_rate  Average_2019_Unemployment  \\\n",
       "State_UT                                                                 \n",
       "A & N ISLANDS          45.5            86.6                        NaN   \n",
       "CHANDIGARH             11.1            86.0                        NaN   \n",
       "D & N HAVELI           17.1            76.2                        NaN   \n",
       "DAMAN & DIU            10.9            87.1                        NaN   \n",
       "LAKSHADWEEP             0.0            91.8                        NaN   \n",
       "PUDUCHERRY             32.5            85.8                   1.541667   \n",
       "\n",
       "               QoW_sedatives  QoW_Opioids  Ganja  Alcohol_total_perc  \\\n",
       "State_UT                                                               \n",
       "A & N ISLANDS           0.16          0.5    0.1                47.1   \n",
       "CHANDIGARH              0.28          0.9    0.4                32.3   \n",
       "D & N HAVELI            0.05          0.5    0.1                19.5   \n",
       "DAMAN & DIU             0.03          2.5    1.3                29.4   \n",
       "LAKSHADWEEP             0.21          0.6    0.1                 0.1   \n",
       "PUDUCHERRY              0.74          0.6    0.0                20.0   \n",
       "\n",
       "               Percapita_NSDP_2019  TFR_2017  Perc_BPL  Mean_Asset_Score_2016  \\\n",
       "State_UT                                                                        \n",
       "A & N ISLANDS        155046.234848       1.5       NaN                    NaN   \n",
       "CHANDIGARH           234997.612958       1.8       NaN                    NaN   \n",
       "D & N HAVELI                   NaN       2.3       NaN                    NaN   \n",
       "DAMAN & DIU                    NaN       1.7       NaN                    NaN   \n",
       "LAKSHADWEEP                    NaN       1.9       NaN                    NaN   \n",
       "PUDUCHERRY           141918.255672       1.6       9.7                    NaN   \n",
       "\n",
       "               Gini_Coefficient_2016  \n",
       "State_UT                              \n",
       "A & N ISLANDS                    NaN  \n",
       "CHANDIGARH                       NaN  \n",
       "D & N HAVELI                     NaN  \n",
       "DAMAN & DIU                      NaN  \n",
       "LAKSHADWEEP                      NaN  \n",
       "PUDUCHERRY                       NaN  "
      ]
     },
     "execution_count": 76,
     "metadata": {},
     "output_type": "execute_result"
    }
   ],
   "source": [
    "master[master['Mean_Asset_Score_2016'].isna()]"
   ]
  },
  {
   "cell_type": "code",
   "execution_count": 77,
   "metadata": {
    "ExecuteTime": {
     "end_time": "2021-08-21T12:12:07.251449Z",
     "start_time": "2021-08-21T12:12:07.238456Z"
    }
   },
   "outputs": [],
   "source": [
    "Perc_BPL_median = master.Perc_BPL.median()"
   ]
  },
  {
   "cell_type": "code",
   "execution_count": 78,
   "metadata": {
    "ExecuteTime": {
     "end_time": "2021-08-21T12:12:07.267048Z",
     "start_time": "2021-08-21T12:12:07.256449Z"
    }
   },
   "outputs": [],
   "source": [
    "Percapita_NSDP_2019_median = master.Percapita_NSDP_2019.median()"
   ]
  },
  {
   "cell_type": "code",
   "execution_count": 79,
   "metadata": {
    "ExecuteTime": {
     "end_time": "2021-08-21T12:12:07.283111Z",
     "start_time": "2021-08-21T12:12:07.276517Z"
    }
   },
   "outputs": [],
   "source": [
    "master.Perc_BPL = np.where(master['Perc_BPL'].isna(),Perc_BPL_median,master['Perc_BPL'])"
   ]
  },
  {
   "cell_type": "code",
   "execution_count": 80,
   "metadata": {
    "ExecuteTime": {
     "end_time": "2021-08-21T12:12:07.298826Z",
     "start_time": "2021-08-21T12:12:07.289112Z"
    }
   },
   "outputs": [],
   "source": [
    "master.Percapita_NSDP_2019 = np.where(master['Percapita_NSDP_2019'].isna(),Percapita_NSDP_2019_median,master['Percapita_NSDP_2019'])"
   ]
  },
  {
   "cell_type": "code",
   "execution_count": 81,
   "metadata": {
    "ExecuteTime": {
     "end_time": "2021-08-21T12:12:07.313826Z",
     "start_time": "2021-08-21T12:12:07.302827Z"
    }
   },
   "outputs": [],
   "source": [
    "Average_2019_Unemployment_median = master.Average_2019_Unemployment.median()"
   ]
  },
  {
   "cell_type": "code",
   "execution_count": 82,
   "metadata": {
    "ExecuteTime": {
     "end_time": "2021-08-21T12:12:07.329829Z",
     "start_time": "2021-08-21T12:12:07.317829Z"
    }
   },
   "outputs": [],
   "source": [
    "master.Average_2019_Unemployment = np.where(master['Average_2019_Unemployment'].isna(),Average_2019_Unemployment_median,master['Average_2019_Unemployment'])"
   ]
  },
  {
   "cell_type": "code",
   "execution_count": 83,
   "metadata": {
    "ExecuteTime": {
     "end_time": "2021-08-21T12:12:07.345553Z",
     "start_time": "2021-08-21T12:12:07.333514Z"
    }
   },
   "outputs": [],
   "source": [
    "Mean_Asset_Score_2016_median = master.Mean_Asset_Score_2016.median()\n",
    "master.Mean_Asset_Score_2016 = np.where(master['Mean_Asset_Score_2016'].isna(),Mean_Asset_Score_2016_median,master['Mean_Asset_Score_2016'])\n",
    "\n",
    "Gini_Coefficient_2016_median = master.Gini_Coefficient_2016.median()\n",
    "master.Gini_Coefficient_2016 = np.where(master['Gini_Coefficient_2016'].isna(),Gini_Coefficient_2016_median,master['Gini_Coefficient_2016'])"
   ]
  },
  {
   "cell_type": "code",
   "execution_count": 84,
   "metadata": {
    "ExecuteTime": {
     "end_time": "2021-08-21T12:12:07.360775Z",
     "start_time": "2021-08-21T12:12:07.348761Z"
    }
   },
   "outputs": [
    {
     "data": {
      "text/plain": [
       "Suicide_Rate                 0\n",
       "Total_lit_rate               0\n",
       "Average_2019_Unemployment    0\n",
       "QoW_sedatives                0\n",
       "QoW_Opioids                  0\n",
       "Ganja                        0\n",
       "Alcohol_total_perc           0\n",
       "Percapita_NSDP_2019          0\n",
       "TFR_2017                     0\n",
       "Perc_BPL                     0\n",
       "Mean_Asset_Score_2016        0\n",
       "Gini_Coefficient_2016        0\n",
       "dtype: int64"
      ]
     },
     "execution_count": 84,
     "metadata": {},
     "output_type": "execute_result"
    }
   ],
   "source": [
    "master.isna().sum()"
   ]
  },
  {
   "cell_type": "markdown",
   "metadata": {},
   "source": [
    "##### Scaling"
   ]
  },
  {
   "cell_type": "code",
   "execution_count": 85,
   "metadata": {
    "ExecuteTime": {
     "end_time": "2021-08-21T12:12:07.391043Z",
     "start_time": "2021-08-21T12:12:07.364762Z"
    }
   },
   "outputs": [],
   "source": [
    "from sklearn.preprocessing import StandardScaler\n",
    "sc = StandardScaler()\n",
    "master_std = sc.fit_transform(master)\n",
    "master_std = pd.DataFrame(master_std,columns=master.columns, index=master.index)"
   ]
  },
  {
   "cell_type": "code",
   "execution_count": 86,
   "metadata": {
    "ExecuteTime": {
     "end_time": "2021-08-21T12:12:07.500419Z",
     "start_time": "2021-08-21T12:12:07.396044Z"
    }
   },
   "outputs": [
    {
     "data": {
      "text/html": [
       "<div>\n",
       "<style scoped>\n",
       "    .dataframe tbody tr th:only-of-type {\n",
       "        vertical-align: middle;\n",
       "    }\n",
       "\n",
       "    .dataframe tbody tr th {\n",
       "        vertical-align: top;\n",
       "    }\n",
       "\n",
       "    .dataframe thead th {\n",
       "        text-align: right;\n",
       "    }\n",
       "</style>\n",
       "<table border=\"1\" class=\"dataframe\">\n",
       "  <thead>\n",
       "    <tr style=\"text-align: right;\">\n",
       "      <th></th>\n",
       "      <th>count</th>\n",
       "      <th>mean</th>\n",
       "      <th>std</th>\n",
       "      <th>min</th>\n",
       "      <th>25%</th>\n",
       "      <th>50%</th>\n",
       "      <th>75%</th>\n",
       "      <th>max</th>\n",
       "    </tr>\n",
       "  </thead>\n",
       "  <tbody>\n",
       "    <tr>\n",
       "      <th>Suicide_Rate</th>\n",
       "      <td>36.0</td>\n",
       "      <td>1.356939e-16</td>\n",
       "      <td>1.014185</td>\n",
       "      <td>-1.292368</td>\n",
       "      <td>-0.700732</td>\n",
       "      <td>-0.169518</td>\n",
       "      <td>0.429671</td>\n",
       "      <td>3.289665</td>\n",
       "    </tr>\n",
       "    <tr>\n",
       "      <th>Total_lit_rate</th>\n",
       "      <td>36.0</td>\n",
       "      <td>8.172475e-16</td>\n",
       "      <td>1.014185</td>\n",
       "      <td>-1.845936</td>\n",
       "      <td>-0.878676</td>\n",
       "      <td>-0.110730</td>\n",
       "      <td>0.973774</td>\n",
       "      <td>1.929310</td>\n",
       "    </tr>\n",
       "    <tr>\n",
       "      <th>Average_2019_Unemployment</th>\n",
       "      <td>36.0</td>\n",
       "      <td>-4.625929e-16</td>\n",
       "      <td>1.014185</td>\n",
       "      <td>-1.219083</td>\n",
       "      <td>-0.606964</td>\n",
       "      <td>-0.314244</td>\n",
       "      <td>0.358971</td>\n",
       "      <td>3.578881</td>\n",
       "    </tr>\n",
       "    <tr>\n",
       "      <th>QoW_sedatives</th>\n",
       "      <td>36.0</td>\n",
       "      <td>-7.093092e-17</td>\n",
       "      <td>1.014185</td>\n",
       "      <td>-0.746257</td>\n",
       "      <td>-0.543647</td>\n",
       "      <td>-0.375524</td>\n",
       "      <td>-0.034966</td>\n",
       "      <td>4.254337</td>\n",
       "    </tr>\n",
       "    <tr>\n",
       "      <th>QoW_Opioids</th>\n",
       "      <td>36.0</td>\n",
       "      <td>4.317534e-17</td>\n",
       "      <td>1.014185</td>\n",
       "      <td>-0.854064</td>\n",
       "      <td>-0.630861</td>\n",
       "      <td>-0.463458</td>\n",
       "      <td>0.248004</td>\n",
       "      <td>2.940400</td>\n",
       "    </tr>\n",
       "    <tr>\n",
       "      <th>Ganja</th>\n",
       "      <td>36.0</td>\n",
       "      <td>1.233581e-16</td>\n",
       "      <td>1.014185</td>\n",
       "      <td>-0.891764</td>\n",
       "      <td>-0.776491</td>\n",
       "      <td>-0.488309</td>\n",
       "      <td>0.736466</td>\n",
       "      <td>3.315697</td>\n",
       "    </tr>\n",
       "    <tr>\n",
       "      <th>Alcohol_total_perc</th>\n",
       "      <td>36.0</td>\n",
       "      <td>-2.143347e-16</td>\n",
       "      <td>1.014185</td>\n",
       "      <td>-1.667982</td>\n",
       "      <td>-0.808294</td>\n",
       "      <td>0.123035</td>\n",
       "      <td>0.825425</td>\n",
       "      <td>2.194385</td>\n",
       "    </tr>\n",
       "    <tr>\n",
       "      <th>Percapita_NSDP_2019</th>\n",
       "      <td>36.0</td>\n",
       "      <td>1.233581e-16</td>\n",
       "      <td>1.014185</td>\n",
       "      <td>-1.385204</td>\n",
       "      <td>-0.765526</td>\n",
       "      <td>-0.126596</td>\n",
       "      <td>0.380187</td>\n",
       "      <td>3.443598</td>\n",
       "    </tr>\n",
       "    <tr>\n",
       "      <th>TFR_2017</th>\n",
       "      <td>36.0</td>\n",
       "      <td>-8.635068e-17</td>\n",
       "      <td>1.014185</td>\n",
       "      <td>-1.629048</td>\n",
       "      <td>-0.800133</td>\n",
       "      <td>-0.385676</td>\n",
       "      <td>0.650468</td>\n",
       "      <td>2.515527</td>\n",
       "    </tr>\n",
       "    <tr>\n",
       "      <th>Perc_BPL</th>\n",
       "      <td>36.0</td>\n",
       "      <td>-1.788693e-16</td>\n",
       "      <td>1.014185</td>\n",
       "      <td>-1.302324</td>\n",
       "      <td>-0.787965</td>\n",
       "      <td>-0.348151</td>\n",
       "      <td>0.479295</td>\n",
       "      <td>2.156551</td>\n",
       "    </tr>\n",
       "    <tr>\n",
       "      <th>Mean_Asset_Score_2016</th>\n",
       "      <td>36.0</td>\n",
       "      <td>6.908054e-16</td>\n",
       "      <td>1.014185</td>\n",
       "      <td>-1.891891</td>\n",
       "      <td>-0.747509</td>\n",
       "      <td>-0.163758</td>\n",
       "      <td>0.503798</td>\n",
       "      <td>2.188583</td>\n",
       "    </tr>\n",
       "    <tr>\n",
       "      <th>Gini_Coefficient_2016</th>\n",
       "      <td>36.0</td>\n",
       "      <td>-1.316077e-15</td>\n",
       "      <td>1.014185</td>\n",
       "      <td>-1.783333</td>\n",
       "      <td>-0.296233</td>\n",
       "      <td>-0.033321</td>\n",
       "      <td>0.356940</td>\n",
       "      <td>2.127492</td>\n",
       "    </tr>\n",
       "  </tbody>\n",
       "</table>\n",
       "</div>"
      ],
      "text/plain": [
       "                           count          mean       std       min       25%  \\\n",
       "Suicide_Rate                36.0  1.356939e-16  1.014185 -1.292368 -0.700732   \n",
       "Total_lit_rate              36.0  8.172475e-16  1.014185 -1.845936 -0.878676   \n",
       "Average_2019_Unemployment   36.0 -4.625929e-16  1.014185 -1.219083 -0.606964   \n",
       "QoW_sedatives               36.0 -7.093092e-17  1.014185 -0.746257 -0.543647   \n",
       "QoW_Opioids                 36.0  4.317534e-17  1.014185 -0.854064 -0.630861   \n",
       "Ganja                       36.0  1.233581e-16  1.014185 -0.891764 -0.776491   \n",
       "Alcohol_total_perc          36.0 -2.143347e-16  1.014185 -1.667982 -0.808294   \n",
       "Percapita_NSDP_2019         36.0  1.233581e-16  1.014185 -1.385204 -0.765526   \n",
       "TFR_2017                    36.0 -8.635068e-17  1.014185 -1.629048 -0.800133   \n",
       "Perc_BPL                    36.0 -1.788693e-16  1.014185 -1.302324 -0.787965   \n",
       "Mean_Asset_Score_2016       36.0  6.908054e-16  1.014185 -1.891891 -0.747509   \n",
       "Gini_Coefficient_2016       36.0 -1.316077e-15  1.014185 -1.783333 -0.296233   \n",
       "\n",
       "                                50%       75%       max  \n",
       "Suicide_Rate              -0.169518  0.429671  3.289665  \n",
       "Total_lit_rate            -0.110730  0.973774  1.929310  \n",
       "Average_2019_Unemployment -0.314244  0.358971  3.578881  \n",
       "QoW_sedatives             -0.375524 -0.034966  4.254337  \n",
       "QoW_Opioids               -0.463458  0.248004  2.940400  \n",
       "Ganja                     -0.488309  0.736466  3.315697  \n",
       "Alcohol_total_perc         0.123035  0.825425  2.194385  \n",
       "Percapita_NSDP_2019       -0.126596  0.380187  3.443598  \n",
       "TFR_2017                  -0.385676  0.650468  2.515527  \n",
       "Perc_BPL                  -0.348151  0.479295  2.156551  \n",
       "Mean_Asset_Score_2016     -0.163758  0.503798  2.188583  \n",
       "Gini_Coefficient_2016     -0.033321  0.356940  2.127492  "
      ]
     },
     "execution_count": 86,
     "metadata": {},
     "output_type": "execute_result"
    }
   ],
   "source": [
    "master_std.describe().T"
   ]
  },
  {
   "cell_type": "code",
   "execution_count": 87,
   "metadata": {
    "ExecuteTime": {
     "end_time": "2021-08-21T12:12:07.515575Z",
     "start_time": "2021-08-21T12:12:07.504459Z"
    }
   },
   "outputs": [],
   "source": [
    "master_std.Suicide_Rate = master_std.Suicide_Rate * 10"
   ]
  },
  {
   "cell_type": "code",
   "execution_count": 88,
   "metadata": {
    "ExecuteTime": {
     "end_time": "2021-08-21T12:12:07.625048Z",
     "start_time": "2021-08-21T12:12:07.519310Z"
    }
   },
   "outputs": [
    {
     "data": {
      "text/html": [
       "<div>\n",
       "<style scoped>\n",
       "    .dataframe tbody tr th:only-of-type {\n",
       "        vertical-align: middle;\n",
       "    }\n",
       "\n",
       "    .dataframe tbody tr th {\n",
       "        vertical-align: top;\n",
       "    }\n",
       "\n",
       "    .dataframe thead th {\n",
       "        text-align: right;\n",
       "    }\n",
       "</style>\n",
       "<table border=\"1\" class=\"dataframe\">\n",
       "  <thead>\n",
       "    <tr style=\"text-align: right;\">\n",
       "      <th></th>\n",
       "      <th>count</th>\n",
       "      <th>mean</th>\n",
       "      <th>std</th>\n",
       "      <th>min</th>\n",
       "      <th>25%</th>\n",
       "      <th>50%</th>\n",
       "      <th>75%</th>\n",
       "      <th>max</th>\n",
       "    </tr>\n",
       "  </thead>\n",
       "  <tbody>\n",
       "    <tr>\n",
       "      <th>Suicide_Rate</th>\n",
       "      <td>36.0</td>\n",
       "      <td>1.677670e-15</td>\n",
       "      <td>10.141851</td>\n",
       "      <td>-12.923684</td>\n",
       "      <td>-7.007322</td>\n",
       "      <td>-1.695185</td>\n",
       "      <td>4.296705</td>\n",
       "      <td>32.896651</td>\n",
       "    </tr>\n",
       "    <tr>\n",
       "      <th>Total_lit_rate</th>\n",
       "      <td>36.0</td>\n",
       "      <td>8.172475e-16</td>\n",
       "      <td>1.014185</td>\n",
       "      <td>-1.845936</td>\n",
       "      <td>-0.878676</td>\n",
       "      <td>-0.110730</td>\n",
       "      <td>0.973774</td>\n",
       "      <td>1.929310</td>\n",
       "    </tr>\n",
       "    <tr>\n",
       "      <th>Average_2019_Unemployment</th>\n",
       "      <td>36.0</td>\n",
       "      <td>-4.625929e-16</td>\n",
       "      <td>1.014185</td>\n",
       "      <td>-1.219083</td>\n",
       "      <td>-0.606964</td>\n",
       "      <td>-0.314244</td>\n",
       "      <td>0.358971</td>\n",
       "      <td>3.578881</td>\n",
       "    </tr>\n",
       "    <tr>\n",
       "      <th>QoW_sedatives</th>\n",
       "      <td>36.0</td>\n",
       "      <td>-7.093092e-17</td>\n",
       "      <td>1.014185</td>\n",
       "      <td>-0.746257</td>\n",
       "      <td>-0.543647</td>\n",
       "      <td>-0.375524</td>\n",
       "      <td>-0.034966</td>\n",
       "      <td>4.254337</td>\n",
       "    </tr>\n",
       "    <tr>\n",
       "      <th>QoW_Opioids</th>\n",
       "      <td>36.0</td>\n",
       "      <td>4.317534e-17</td>\n",
       "      <td>1.014185</td>\n",
       "      <td>-0.854064</td>\n",
       "      <td>-0.630861</td>\n",
       "      <td>-0.463458</td>\n",
       "      <td>0.248004</td>\n",
       "      <td>2.940400</td>\n",
       "    </tr>\n",
       "    <tr>\n",
       "      <th>Ganja</th>\n",
       "      <td>36.0</td>\n",
       "      <td>1.233581e-16</td>\n",
       "      <td>1.014185</td>\n",
       "      <td>-0.891764</td>\n",
       "      <td>-0.776491</td>\n",
       "      <td>-0.488309</td>\n",
       "      <td>0.736466</td>\n",
       "      <td>3.315697</td>\n",
       "    </tr>\n",
       "    <tr>\n",
       "      <th>Alcohol_total_perc</th>\n",
       "      <td>36.0</td>\n",
       "      <td>-2.143347e-16</td>\n",
       "      <td>1.014185</td>\n",
       "      <td>-1.667982</td>\n",
       "      <td>-0.808294</td>\n",
       "      <td>0.123035</td>\n",
       "      <td>0.825425</td>\n",
       "      <td>2.194385</td>\n",
       "    </tr>\n",
       "    <tr>\n",
       "      <th>Percapita_NSDP_2019</th>\n",
       "      <td>36.0</td>\n",
       "      <td>1.233581e-16</td>\n",
       "      <td>1.014185</td>\n",
       "      <td>-1.385204</td>\n",
       "      <td>-0.765526</td>\n",
       "      <td>-0.126596</td>\n",
       "      <td>0.380187</td>\n",
       "      <td>3.443598</td>\n",
       "    </tr>\n",
       "    <tr>\n",
       "      <th>TFR_2017</th>\n",
       "      <td>36.0</td>\n",
       "      <td>-8.635068e-17</td>\n",
       "      <td>1.014185</td>\n",
       "      <td>-1.629048</td>\n",
       "      <td>-0.800133</td>\n",
       "      <td>-0.385676</td>\n",
       "      <td>0.650468</td>\n",
       "      <td>2.515527</td>\n",
       "    </tr>\n",
       "    <tr>\n",
       "      <th>Perc_BPL</th>\n",
       "      <td>36.0</td>\n",
       "      <td>-1.788693e-16</td>\n",
       "      <td>1.014185</td>\n",
       "      <td>-1.302324</td>\n",
       "      <td>-0.787965</td>\n",
       "      <td>-0.348151</td>\n",
       "      <td>0.479295</td>\n",
       "      <td>2.156551</td>\n",
       "    </tr>\n",
       "    <tr>\n",
       "      <th>Mean_Asset_Score_2016</th>\n",
       "      <td>36.0</td>\n",
       "      <td>6.908054e-16</td>\n",
       "      <td>1.014185</td>\n",
       "      <td>-1.891891</td>\n",
       "      <td>-0.747509</td>\n",
       "      <td>-0.163758</td>\n",
       "      <td>0.503798</td>\n",
       "      <td>2.188583</td>\n",
       "    </tr>\n",
       "    <tr>\n",
       "      <th>Gini_Coefficient_2016</th>\n",
       "      <td>36.0</td>\n",
       "      <td>-1.316077e-15</td>\n",
       "      <td>1.014185</td>\n",
       "      <td>-1.783333</td>\n",
       "      <td>-0.296233</td>\n",
       "      <td>-0.033321</td>\n",
       "      <td>0.356940</td>\n",
       "      <td>2.127492</td>\n",
       "    </tr>\n",
       "  </tbody>\n",
       "</table>\n",
       "</div>"
      ],
      "text/plain": [
       "                           count          mean        std        min  \\\n",
       "Suicide_Rate                36.0  1.677670e-15  10.141851 -12.923684   \n",
       "Total_lit_rate              36.0  8.172475e-16   1.014185  -1.845936   \n",
       "Average_2019_Unemployment   36.0 -4.625929e-16   1.014185  -1.219083   \n",
       "QoW_sedatives               36.0 -7.093092e-17   1.014185  -0.746257   \n",
       "QoW_Opioids                 36.0  4.317534e-17   1.014185  -0.854064   \n",
       "Ganja                       36.0  1.233581e-16   1.014185  -0.891764   \n",
       "Alcohol_total_perc          36.0 -2.143347e-16   1.014185  -1.667982   \n",
       "Percapita_NSDP_2019         36.0  1.233581e-16   1.014185  -1.385204   \n",
       "TFR_2017                    36.0 -8.635068e-17   1.014185  -1.629048   \n",
       "Perc_BPL                    36.0 -1.788693e-16   1.014185  -1.302324   \n",
       "Mean_Asset_Score_2016       36.0  6.908054e-16   1.014185  -1.891891   \n",
       "Gini_Coefficient_2016       36.0 -1.316077e-15   1.014185  -1.783333   \n",
       "\n",
       "                                25%       50%       75%        max  \n",
       "Suicide_Rate              -7.007322 -1.695185  4.296705  32.896651  \n",
       "Total_lit_rate            -0.878676 -0.110730  0.973774   1.929310  \n",
       "Average_2019_Unemployment -0.606964 -0.314244  0.358971   3.578881  \n",
       "QoW_sedatives             -0.543647 -0.375524 -0.034966   4.254337  \n",
       "QoW_Opioids               -0.630861 -0.463458  0.248004   2.940400  \n",
       "Ganja                     -0.776491 -0.488309  0.736466   3.315697  \n",
       "Alcohol_total_perc        -0.808294  0.123035  0.825425   2.194385  \n",
       "Percapita_NSDP_2019       -0.765526 -0.126596  0.380187   3.443598  \n",
       "TFR_2017                  -0.800133 -0.385676  0.650468   2.515527  \n",
       "Perc_BPL                  -0.787965 -0.348151  0.479295   2.156551  \n",
       "Mean_Asset_Score_2016     -0.747509 -0.163758  0.503798   2.188583  \n",
       "Gini_Coefficient_2016     -0.296233 -0.033321  0.356940   2.127492  "
      ]
     },
     "execution_count": 88,
     "metadata": {},
     "output_type": "execute_result"
    }
   ],
   "source": [
    "master_std.describe().T"
   ]
  },
  {
   "cell_type": "markdown",
   "metadata": {},
   "source": [
    "### K-means clustering"
   ]
  },
  {
   "cell_type": "markdown",
   "metadata": {
    "ExecuteTime": {
     "end_time": "2021-06-23T07:49:55.318703Z",
     "start_time": "2021-06-23T07:49:55.312712Z"
    }
   },
   "source": [
    "##### Calculating suitable K"
   ]
  },
  {
   "cell_type": "code",
   "execution_count": 89,
   "metadata": {
    "ExecuteTime": {
     "end_time": "2021-08-21T12:12:08.165556Z",
     "start_time": "2021-08-21T12:12:07.628044Z"
    }
   },
   "outputs": [],
   "source": [
    "from sklearn.cluster import KMeans\n",
    "from sklearn.metrics import silhouette_samples, silhouette_score\n",
    "\n",
    "wss =[] \n",
    "sil_score = []\n",
    "for i in range(2,11):\n",
    "    KM = KMeans(n_clusters=i,random_state=1)\n",
    "    KM.fit(master_std)\n",
    "    wss.append(KM.inertia_)\n",
    "    labels = KM.labels_\n",
    "    sil_score.append(silhouette_score(master_std,labels))"
   ]
  },
  {
   "cell_type": "code",
   "execution_count": 90,
   "metadata": {
    "ExecuteTime": {
     "end_time": "2021-08-21T12:12:08.498532Z",
     "start_time": "2021-08-21T12:12:08.168481Z"
    }
   },
   "outputs": [
    {
     "data": {
      "image/png": "[encoded data removed]",
      "text/plain": [
       "<Figure size 432x288 with 1 Axes>"
      ]
     },
     "metadata": {
      "needs_background": "light"
     },
     "output_type": "display_data"
    }
   ],
   "source": [
    "plt.plot(range(2,11), wss, marker = 'o')\n",
    "plt.xlabel('No. of clusters - K')\n",
    "plt.ylabel('Within Sum of Squares')\n",
    "plt.title(\"Elbow plot\");"
   ]
  },
  {
   "cell_type": "code",
   "execution_count": 91,
   "metadata": {
    "ExecuteTime": {
     "end_time": "2021-08-21T12:12:08.846425Z",
     "start_time": "2021-08-21T12:12:08.503521Z"
    }
   },
   "outputs": [
    {
     "data": {
      "image/png": "[encoded data removed]",
      "text/plain": [
       "<Figure size 432x288 with 1 Axes>"
      ]
     },
     "metadata": {
      "needs_background": "light"
     },
     "output_type": "display_data"
    }
   ],
   "source": [
    "plt.plot(range(2,11),sil_score,marker ='o')\n",
    "plt.xlabel('No. of clusters - K')\n",
    "plt.ylabel('Silhoutte Scores')\n",
    "plt.title(\"Determining K using Silhouette Scores\");"
   ]
  },
  {
   "cell_type": "markdown",
   "metadata": {
    "ExecuteTime": {
     "end_time": "2021-06-23T12:17:29.693869Z",
     "start_time": "2021-06-23T12:17:29.667946Z"
    }
   },
   "source": [
    "Observation : \n",
    "    Silhouette score is way less than 1 with just scaled data. \n",
    "    In the second iteration, giving suicide rate more importance by multiplying by 10."
   ]
  },
  {
   "cell_type": "markdown",
   "metadata": {},
   "source": [
    "<b> Observation: </b> <br> \n",
    "The wss plot has a bend at 4 clusters. <br>\n",
    "SScore is highest for 2 clusters. We will do 2,3,4 clusters and look at the characteristics for each dataset.\n",
    "\n",
    "<i> Reference: \n",
    "https://www.researchgate.net/publication/279040193_Recovering_the_number_of_clusters_in_data_sets_with_noise_features_using_feature_rescaling_factors  </i>"
   ]
  },
  {
   "cell_type": "markdown",
   "metadata": {},
   "source": [
    "##### Creating additional features in original dataset with labels formed by Kmeans algorithm"
   ]
  },
  {
   "cell_type": "code",
   "execution_count": 92,
   "metadata": {
    "ExecuteTime": {
     "end_time": "2021-08-21T12:12:08.989145Z",
     "start_time": "2021-08-21T12:12:08.850385Z"
    }
   },
   "outputs": [],
   "source": [
    "KM2 = KMeans(n_clusters=2,random_state=1)\n",
    "KM2.fit(master_std)\n",
    "labels = KM2.labels_\n",
    "master['Cluster_kmeans2'] = labels\n",
    "\n",
    "KM3 = KMeans(n_clusters=3,random_state=1)\n",
    "KM3.fit(master_std)\n",
    "labels = KM3.labels_\n",
    "master['Cluster_kmeans3'] = labels\n",
    "\n",
    "KM4 = KMeans(n_clusters=4,random_state=1)\n",
    "KM4.fit(master_std)\n",
    "labels = KM4.labels_\n",
    "master['Cluster_kmeans4'] = labels"
   ]
  },
  {
   "cell_type": "markdown",
   "metadata": {},
   "source": [
    "#### Cluster profiling"
   ]
  },
  {
   "cell_type": "markdown",
   "metadata": {},
   "source": [
    "##### K-means = 2 profiling"
   ]
  },
  {
   "cell_type": "code",
   "execution_count": 93,
   "metadata": {
    "ExecuteTime": {
     "end_time": "2021-08-21T12:12:09.019656Z",
     "start_time": "2021-08-21T12:12:08.993149Z"
    }
   },
   "outputs": [
    {
     "data": {
      "text/plain": [
       "0    30\n",
       "1     6\n",
       "Name: Cluster_kmeans2, dtype: int64"
      ]
     },
     "execution_count": 93,
     "metadata": {},
     "output_type": "execute_result"
    }
   ],
   "source": [
    "master.Cluster_kmeans2.value_counts().sort_index()"
   ]
  },
  {
   "cell_type": "code",
   "execution_count": 94,
   "metadata": {
    "ExecuteTime": {
     "end_time": "2021-08-21T12:12:09.050930Z",
     "start_time": "2021-08-21T12:12:09.023655Z"
    }
   },
   "outputs": [
    {
     "data": {
      "text/plain": [
       "0     5\n",
       "1    15\n",
       "2    16\n",
       "Name: Cluster_kmeans3, dtype: int64"
      ]
     },
     "execution_count": 94,
     "metadata": {},
     "output_type": "execute_result"
    }
   ],
   "source": [
    "master.Cluster_kmeans3.value_counts().sort_index()"
   ]
  },
  {
   "cell_type": "code",
   "execution_count": 95,
   "metadata": {
    "ExecuteTime": {
     "end_time": "2021-08-21T12:12:09.082186Z",
     "start_time": "2021-08-21T12:12:09.054878Z"
    }
   },
   "outputs": [
    {
     "data": {
      "text/plain": [
       "0     4\n",
       "1    15\n",
       "2    16\n",
       "3     1\n",
       "Name: Cluster_kmeans4, dtype: int64"
      ]
     },
     "execution_count": 95,
     "metadata": {},
     "output_type": "execute_result"
    }
   ],
   "source": [
    "master.Cluster_kmeans4.value_counts().sort_index()"
   ]
  },
  {
   "cell_type": "code",
   "execution_count": 96,
   "metadata": {
    "ExecuteTime": {
     "end_time": "2021-08-21T12:12:09.145554Z",
     "start_time": "2021-08-21T12:12:09.086107Z"
    }
   },
   "outputs": [
    {
     "data": {
      "text/html": [
       "<div>\n",
       "<style scoped>\n",
       "    .dataframe tbody tr th:only-of-type {\n",
       "        vertical-align: middle;\n",
       "    }\n",
       "\n",
       "    .dataframe tbody tr th {\n",
       "        vertical-align: top;\n",
       "    }\n",
       "\n",
       "    .dataframe thead th {\n",
       "        text-align: right;\n",
       "    }\n",
       "</style>\n",
       "<table border=\"1\" class=\"dataframe\">\n",
       "  <thead>\n",
       "    <tr style=\"text-align: right;\">\n",
       "      <th></th>\n",
       "      <th>Suicide_Rate</th>\n",
       "      <th>Total_lit_rate</th>\n",
       "      <th>Average_2019_Unemployment</th>\n",
       "      <th>QoW_sedatives</th>\n",
       "      <th>QoW_Opioids</th>\n",
       "      <th>Ganja</th>\n",
       "      <th>Alcohol_total_perc</th>\n",
       "      <th>Percapita_NSDP_2019</th>\n",
       "      <th>TFR_2017</th>\n",
       "      <th>Perc_BPL</th>\n",
       "      <th>Mean_Asset_Score_2016</th>\n",
       "      <th>Gini_Coefficient_2016</th>\n",
       "      <th>Cluster_kmeans3</th>\n",
       "      <th>Cluster_kmeans4</th>\n",
       "    </tr>\n",
       "    <tr>\n",
       "      <th>Cluster_kmeans2</th>\n",
       "      <th></th>\n",
       "      <th></th>\n",
       "      <th></th>\n",
       "      <th></th>\n",
       "      <th></th>\n",
       "      <th></th>\n",
       "      <th></th>\n",
       "      <th></th>\n",
       "      <th></th>\n",
       "      <th></th>\n",
       "      <th></th>\n",
       "      <th></th>\n",
       "      <th></th>\n",
       "      <th></th>\n",
       "    </tr>\n",
       "  </thead>\n",
       "  <tbody>\n",
       "    <tr>\n",
       "      <th>0</th>\n",
       "      <td>9.32</td>\n",
       "      <td>76.883333</td>\n",
       "      <td>8.642778</td>\n",
       "      <td>0.385000</td>\n",
       "      <td>1.693333</td>\n",
       "      <td>1.510000</td>\n",
       "      <td>25.236667</td>\n",
       "      <td>122245.706717</td>\n",
       "      <td>2.046667</td>\n",
       "      <td>18.883333</td>\n",
       "      <td>0.388967</td>\n",
       "      <td>0.276400</td>\n",
       "      <td>1.500000</td>\n",
       "      <td>1.500000</td>\n",
       "    </tr>\n",
       "    <tr>\n",
       "      <th>1</th>\n",
       "      <td>30.40</td>\n",
       "      <td>80.850000</td>\n",
       "      <td>5.444444</td>\n",
       "      <td>0.731667</td>\n",
       "      <td>1.316667</td>\n",
       "      <td>1.733333</td>\n",
       "      <td>35.066667</td>\n",
       "      <td>154703.129003</td>\n",
       "      <td>1.683333</td>\n",
       "      <td>14.800000</td>\n",
       "      <td>0.399167</td>\n",
       "      <td>0.247167</td>\n",
       "      <td>0.333333</td>\n",
       "      <td>0.833333</td>\n",
       "    </tr>\n",
       "  </tbody>\n",
       "</table>\n",
       "</div>"
      ],
      "text/plain": [
       "                 Suicide_Rate  Total_lit_rate  Average_2019_Unemployment  \\\n",
       "Cluster_kmeans2                                                            \n",
       "0                        9.32       76.883333                   8.642778   \n",
       "1                       30.40       80.850000                   5.444444   \n",
       "\n",
       "                 QoW_sedatives  QoW_Opioids     Ganja  Alcohol_total_perc  \\\n",
       "Cluster_kmeans2                                                             \n",
       "0                     0.385000     1.693333  1.510000           25.236667   \n",
       "1                     0.731667     1.316667  1.733333           35.066667   \n",
       "\n",
       "                 Percapita_NSDP_2019  TFR_2017   Perc_BPL  \\\n",
       "Cluster_kmeans2                                             \n",
       "0                      122245.706717  2.046667  18.883333   \n",
       "1                      154703.129003  1.683333  14.800000   \n",
       "\n",
       "                 Mean_Asset_Score_2016  Gini_Coefficient_2016  \\\n",
       "Cluster_kmeans2                                                 \n",
       "0                             0.388967               0.276400   \n",
       "1                             0.399167               0.247167   \n",
       "\n",
       "                 Cluster_kmeans3  Cluster_kmeans4  \n",
       "Cluster_kmeans2                                    \n",
       "0                       1.500000         1.500000  \n",
       "1                       0.333333         0.833333  "
      ]
     },
     "execution_count": 96,
     "metadata": {},
     "output_type": "execute_result"
    }
   ],
   "source": [
    "clust_profile_2 = master.groupby('Cluster_kmeans2').mean()\n",
    "clust_profile_2"
   ]
  },
  {
   "cell_type": "code",
   "execution_count": 97,
   "metadata": {
    "ExecuteTime": {
     "end_time": "2021-08-21T12:12:09.193483Z",
     "start_time": "2021-08-21T12:12:09.149484Z"
    }
   },
   "outputs": [
    {
     "data": {
      "text/html": [
       "<div>\n",
       "<style scoped>\n",
       "    .dataframe tbody tr th:only-of-type {\n",
       "        vertical-align: middle;\n",
       "    }\n",
       "\n",
       "    .dataframe tbody tr th {\n",
       "        vertical-align: top;\n",
       "    }\n",
       "\n",
       "    .dataframe thead th {\n",
       "        text-align: right;\n",
       "    }\n",
       "</style>\n",
       "<table border=\"1\" class=\"dataframe\">\n",
       "  <thead>\n",
       "    <tr style=\"text-align: right;\">\n",
       "      <th></th>\n",
       "      <th>Suicide_Rate</th>\n",
       "      <th>Total_lit_rate</th>\n",
       "      <th>Average_2019_Unemployment</th>\n",
       "      <th>QoW_sedatives</th>\n",
       "      <th>QoW_Opioids</th>\n",
       "      <th>Ganja</th>\n",
       "      <th>Alcohol_total_perc</th>\n",
       "      <th>Percapita_NSDP_2019</th>\n",
       "      <th>TFR_2017</th>\n",
       "      <th>Perc_BPL</th>\n",
       "      <th>Mean_Asset_Score_2016</th>\n",
       "      <th>Gini_Coefficient_2016</th>\n",
       "      <th>Cluster_kmeans2</th>\n",
       "      <th>Cluster_kmeans4</th>\n",
       "    </tr>\n",
       "    <tr>\n",
       "      <th>Cluster_kmeans3</th>\n",
       "      <th></th>\n",
       "      <th></th>\n",
       "      <th></th>\n",
       "      <th></th>\n",
       "      <th></th>\n",
       "      <th></th>\n",
       "      <th></th>\n",
       "      <th></th>\n",
       "      <th></th>\n",
       "      <th></th>\n",
       "      <th></th>\n",
       "      <th></th>\n",
       "      <th></th>\n",
       "      <th></th>\n",
       "    </tr>\n",
       "  </thead>\n",
       "  <tbody>\n",
       "    <tr>\n",
       "      <th>0</th>\n",
       "      <td>32.360000</td>\n",
       "      <td>83.620000</td>\n",
       "      <td>5.830000</td>\n",
       "      <td>0.834000</td>\n",
       "      <td>1.440000</td>\n",
       "      <td>2.0400</td>\n",
       "      <td>36.000000</td>\n",
       "      <td>155515.476764</td>\n",
       "      <td>1.680000</td>\n",
       "      <td>15.920000</td>\n",
       "      <td>0.407600</td>\n",
       "      <td>0.242600</td>\n",
       "      <td>1.0000</td>\n",
       "      <td>0.6</td>\n",
       "    </tr>\n",
       "    <tr>\n",
       "      <th>1</th>\n",
       "      <td>4.386667</td>\n",
       "      <td>74.546667</td>\n",
       "      <td>8.866667</td>\n",
       "      <td>0.548667</td>\n",
       "      <td>2.326667</td>\n",
       "      <td>1.9000</td>\n",
       "      <td>20.613333</td>\n",
       "      <td>88910.722342</td>\n",
       "      <td>2.226667</td>\n",
       "      <td>21.493333</td>\n",
       "      <td>0.377833</td>\n",
       "      <td>0.286033</td>\n",
       "      <td>0.0000</td>\n",
       "      <td>1.0</td>\n",
       "    </tr>\n",
       "    <tr>\n",
       "      <th>2</th>\n",
       "      <td>14.650000</td>\n",
       "      <td>78.456250</td>\n",
       "      <td>8.112500</td>\n",
       "      <td>0.221250</td>\n",
       "      <td>1.037500</td>\n",
       "      <td>1.0625</td>\n",
       "      <td>29.893750</td>\n",
       "      <td>155271.984787</td>\n",
       "      <td>1.856250</td>\n",
       "      <td>15.831250</td>\n",
       "      <td>0.397406</td>\n",
       "      <td>0.266969</td>\n",
       "      <td>0.0625</td>\n",
       "      <td>2.0</td>\n",
       "    </tr>\n",
       "  </tbody>\n",
       "</table>\n",
       "</div>"
      ],
      "text/plain": [
       "                 Suicide_Rate  Total_lit_rate  Average_2019_Unemployment  \\\n",
       "Cluster_kmeans3                                                            \n",
       "0                   32.360000       83.620000                   5.830000   \n",
       "1                    4.386667       74.546667                   8.866667   \n",
       "2                   14.650000       78.456250                   8.112500   \n",
       "\n",
       "                 QoW_sedatives  QoW_Opioids   Ganja  Alcohol_total_perc  \\\n",
       "Cluster_kmeans3                                                           \n",
       "0                     0.834000     1.440000  2.0400           36.000000   \n",
       "1                     0.548667     2.326667  1.9000           20.613333   \n",
       "2                     0.221250     1.037500  1.0625           29.893750   \n",
       "\n",
       "                 Percapita_NSDP_2019  TFR_2017   Perc_BPL  \\\n",
       "Cluster_kmeans3                                             \n",
       "0                      155515.476764  1.680000  15.920000   \n",
       "1                       88910.722342  2.226667  21.493333   \n",
       "2                      155271.984787  1.856250  15.831250   \n",
       "\n",
       "                 Mean_Asset_Score_2016  Gini_Coefficient_2016  \\\n",
       "Cluster_kmeans3                                                 \n",
       "0                             0.407600               0.242600   \n",
       "1                             0.377833               0.286033   \n",
       "2                             0.397406               0.266969   \n",
       "\n",
       "                 Cluster_kmeans2  Cluster_kmeans4  \n",
       "Cluster_kmeans3                                    \n",
       "0                         1.0000              0.6  \n",
       "1                         0.0000              1.0  \n",
       "2                         0.0625              2.0  "
      ]
     },
     "execution_count": 97,
     "metadata": {},
     "output_type": "execute_result"
    }
   ],
   "source": [
    "clust_profile_3 = master.groupby('Cluster_kmeans3').mean()\n",
    "clust_profile_3"
   ]
  },
  {
   "cell_type": "code",
   "execution_count": 98,
   "metadata": {
    "ExecuteTime": {
     "end_time": "2021-08-21T12:12:09.477329Z",
     "start_time": "2021-08-21T12:12:09.197987Z"
    }
   },
   "outputs": [
    {
     "data": {
      "text/html": [
       "<div>\n",
       "<style scoped>\n",
       "    .dataframe tbody tr th:only-of-type {\n",
       "        vertical-align: middle;\n",
       "    }\n",
       "\n",
       "    .dataframe tbody tr th {\n",
       "        vertical-align: top;\n",
       "    }\n",
       "\n",
       "    .dataframe thead th {\n",
       "        text-align: right;\n",
       "    }\n",
       "</style>\n",
       "<table border=\"1\" class=\"dataframe\">\n",
       "  <thead>\n",
       "    <tr style=\"text-align: right;\">\n",
       "      <th></th>\n",
       "      <th>Suicide_Rate</th>\n",
       "      <th>Total_lit_rate</th>\n",
       "      <th>Average_2019_Unemployment</th>\n",
       "      <th>QoW_sedatives</th>\n",
       "      <th>QoW_Opioids</th>\n",
       "      <th>Ganja</th>\n",
       "      <th>Alcohol_total_perc</th>\n",
       "      <th>Percapita_NSDP_2019</th>\n",
       "      <th>TFR_2017</th>\n",
       "      <th>Perc_BPL</th>\n",
       "      <th>Mean_Asset_Score_2016</th>\n",
       "      <th>Gini_Coefficient_2016</th>\n",
       "      <th>Cluster_kmeans2</th>\n",
       "      <th>Cluster_kmeans4</th>\n",
       "    </tr>\n",
       "    <tr>\n",
       "      <th>Cluster_kmeans3</th>\n",
       "      <th></th>\n",
       "      <th></th>\n",
       "      <th></th>\n",
       "      <th></th>\n",
       "      <th></th>\n",
       "      <th></th>\n",
       "      <th></th>\n",
       "      <th></th>\n",
       "      <th></th>\n",
       "      <th></th>\n",
       "      <th></th>\n",
       "      <th></th>\n",
       "      <th></th>\n",
       "      <th></th>\n",
       "    </tr>\n",
       "  </thead>\n",
       "  <tbody>\n",
       "    <tr>\n",
       "      <th>0</th>\n",
       "      <td>8.272122</td>\n",
       "      <td>8.713897</td>\n",
       "      <td>2.450557</td>\n",
       "      <td>1.187910</td>\n",
       "      <td>2.047682</td>\n",
       "      <td>3.154045</td>\n",
       "      <td>15.537857</td>\n",
       "      <td>64633.486190</td>\n",
       "      <td>0.443847</td>\n",
       "      <td>13.716851</td>\n",
       "      <td>0.099881</td>\n",
       "      <td>0.075962</td>\n",
       "      <td>0.00</td>\n",
       "      <td>1.341641</td>\n",
       "    </tr>\n",
       "    <tr>\n",
       "      <th>1</th>\n",
       "      <td>2.724981</td>\n",
       "      <td>9.209612</td>\n",
       "      <td>4.147846</td>\n",
       "      <td>0.560445</td>\n",
       "      <td>2.339862</td>\n",
       "      <td>1.529239</td>\n",
       "      <td>17.474220</td>\n",
       "      <td>40230.924736</td>\n",
       "      <td>0.559932</td>\n",
       "      <td>11.170143</td>\n",
       "      <td>0.092466</td>\n",
       "      <td>0.066285</td>\n",
       "      <td>0.00</td>\n",
       "      <td>0.000000</td>\n",
       "    </tr>\n",
       "    <tr>\n",
       "      <th>2</th>\n",
       "      <td>3.084585</td>\n",
       "      <td>7.280565</td>\n",
       "      <td>7.049908</td>\n",
       "      <td>0.152091</td>\n",
       "      <td>0.779637</td>\n",
       "      <td>1.390384</td>\n",
       "      <td>13.869750</td>\n",
       "      <td>80112.114673</td>\n",
       "      <td>0.326535</td>\n",
       "      <td>7.599274</td>\n",
       "      <td>0.083740</td>\n",
       "      <td>0.052321</td>\n",
       "      <td>0.25</td>\n",
       "      <td>0.000000</td>\n",
       "    </tr>\n",
       "  </tbody>\n",
       "</table>\n",
       "</div>"
      ],
      "text/plain": [
       "                 Suicide_Rate  Total_lit_rate  Average_2019_Unemployment  \\\n",
       "Cluster_kmeans3                                                            \n",
       "0                    8.272122        8.713897                   2.450557   \n",
       "1                    2.724981        9.209612                   4.147846   \n",
       "2                    3.084585        7.280565                   7.049908   \n",
       "\n",
       "                 QoW_sedatives  QoW_Opioids     Ganja  Alcohol_total_perc  \\\n",
       "Cluster_kmeans3                                                             \n",
       "0                     1.187910     2.047682  3.154045           15.537857   \n",
       "1                     0.560445     2.339862  1.529239           17.474220   \n",
       "2                     0.152091     0.779637  1.390384           13.869750   \n",
       "\n",
       "                 Percapita_NSDP_2019  TFR_2017   Perc_BPL  \\\n",
       "Cluster_kmeans3                                             \n",
       "0                       64633.486190  0.443847  13.716851   \n",
       "1                       40230.924736  0.559932  11.170143   \n",
       "2                       80112.114673  0.326535   7.599274   \n",
       "\n",
       "                 Mean_Asset_Score_2016  Gini_Coefficient_2016  \\\n",
       "Cluster_kmeans3                                                 \n",
       "0                             0.099881               0.075962   \n",
       "1                             0.092466               0.066285   \n",
       "2                             0.083740               0.052321   \n",
       "\n",
       "                 Cluster_kmeans2  Cluster_kmeans4  \n",
       "Cluster_kmeans3                                    \n",
       "0                           0.00         1.341641  \n",
       "1                           0.00         0.000000  \n",
       "2                           0.25         0.000000  "
      ]
     },
     "execution_count": 98,
     "metadata": {},
     "output_type": "execute_result"
    }
   ],
   "source": [
    "clust_profile_3_std = master.groupby('Cluster_kmeans3').std()\n",
    "clust_profile_3_std"
   ]
  },
  {
   "cell_type": "code",
   "execution_count": 99,
   "metadata": {
    "ExecuteTime": {
     "end_time": "2021-08-21T12:12:09.538484Z",
     "start_time": "2021-08-21T12:12:09.481328Z"
    }
   },
   "outputs": [],
   "source": [
    "clust_profile_3_std.to_excel(\"clust_profile_3_std_suiciderate10times.xlsx\")"
   ]
  },
  {
   "cell_type": "code",
   "execution_count": 119,
   "metadata": {
    "ExecuteTime": {
     "end_time": "2021-08-21T12:17:25.048187Z",
     "start_time": "2021-08-21T12:17:25.034093Z"
    }
   },
   "outputs": [],
   "source": [
    "master['Total_Suicides'] = Total_suicides\n",
    "master['Pop_in_lakhs'] = State_Pop"
   ]
  },
  {
   "cell_type": "code",
   "execution_count": 106,
   "metadata": {
    "ExecuteTime": {
     "end_time": "2021-08-21T12:15:04.583218Z",
     "start_time": "2021-08-21T12:15:04.507114Z"
    }
   },
   "outputs": [],
   "source": [
    "master.to_excel(\"masterdata_with_clusternumbers.xlsx\")"
   ]
  },
  {
   "cell_type": "code",
   "execution_count": 107,
   "metadata": {
    "ExecuteTime": {
     "end_time": "2021-08-21T12:15:04.598360Z",
     "start_time": "2021-08-21T12:15:04.587151Z"
    }
   },
   "outputs": [],
   "source": [
    "clust_profile_3['count_of_states'] = master.Cluster_kmeans3.value_counts().sort_index()"
   ]
  },
  {
   "cell_type": "code",
   "execution_count": 108,
   "metadata": {
    "ExecuteTime": {
     "end_time": "2021-08-21T12:15:04.629497Z",
     "start_time": "2021-08-21T12:15:04.602595Z"
    }
   },
   "outputs": [],
   "source": [
    "clust_profile_3['CV_suicide_rate'] = (master.groupby('Cluster_kmeans3')['Suicide_Rate'].std()) / clust_profile_3['Suicide_Rate']\n",
    "clust_profile_3['std_suicide_rate'] = master.groupby('Cluster_kmeans3')['Suicide_Rate'].std()"
   ]
  },
  {
   "cell_type": "code",
   "execution_count": 109,
   "metadata": {
    "ExecuteTime": {
     "end_time": "2021-08-21T12:15:04.645060Z",
     "start_time": "2021-08-21T12:15:04.634079Z"
    }
   },
   "outputs": [],
   "source": [
    "clust_profile_3.drop([\"Cluster_kmeans2\", \"Cluster_kmeans4\"], axis=1, inplace=True)"
   ]
  },
  {
   "cell_type": "code",
   "execution_count": 110,
   "metadata": {
    "ExecuteTime": {
     "end_time": "2021-08-21T12:15:04.661093Z",
     "start_time": "2021-08-21T12:15:04.649847Z"
    }
   },
   "outputs": [],
   "source": [
    "clust_profile_3 = clust_profile_3[['Suicide_Rate', 'count_of_states', 'std_suicide_rate', 'CV_suicide_rate',\n",
    "       'Total_lit_rate', 'Average_2019_Unemployment',\n",
    "       'QoW_sedatives', 'QoW_Opioids', 'Ganja', 'Alcohol_total_perc',\n",
    "       'Percapita_NSDP_2019', 'TFR_2017', 'Perc_BPL', 'Mean_Asset_Score_2016',\n",
    "       'Gini_Coefficient_2016']]"
   ]
  },
  {
   "cell_type": "code",
   "execution_count": 111,
   "metadata": {
    "ExecuteTime": {
     "end_time": "2021-08-21T12:15:04.803337Z",
     "start_time": "2021-08-21T12:15:04.665073Z"
    }
   },
   "outputs": [
    {
     "data": {
      "text/html": [
       "<div>\n",
       "<style scoped>\n",
       "    .dataframe tbody tr th:only-of-type {\n",
       "        vertical-align: middle;\n",
       "    }\n",
       "\n",
       "    .dataframe tbody tr th {\n",
       "        vertical-align: top;\n",
       "    }\n",
       "\n",
       "    .dataframe thead th {\n",
       "        text-align: right;\n",
       "    }\n",
       "</style>\n",
       "<table border=\"1\" class=\"dataframe\">\n",
       "  <thead>\n",
       "    <tr style=\"text-align: right;\">\n",
       "      <th></th>\n",
       "      <th>Suicide_Rate</th>\n",
       "      <th>count_of_states</th>\n",
       "      <th>std_suicide_rate</th>\n",
       "      <th>CV_suicide_rate</th>\n",
       "      <th>Total_lit_rate</th>\n",
       "      <th>Average_2019_Unemployment</th>\n",
       "      <th>QoW_sedatives</th>\n",
       "      <th>QoW_Opioids</th>\n",
       "      <th>Ganja</th>\n",
       "      <th>Alcohol_total_perc</th>\n",
       "      <th>Percapita_NSDP_2019</th>\n",
       "      <th>TFR_2017</th>\n",
       "      <th>Perc_BPL</th>\n",
       "      <th>Mean_Asset_Score_2016</th>\n",
       "      <th>Gini_Coefficient_2016</th>\n",
       "    </tr>\n",
       "    <tr>\n",
       "      <th>Cluster_kmeans3</th>\n",
       "      <th></th>\n",
       "      <th></th>\n",
       "      <th></th>\n",
       "      <th></th>\n",
       "      <th></th>\n",
       "      <th></th>\n",
       "      <th></th>\n",
       "      <th></th>\n",
       "      <th></th>\n",
       "      <th></th>\n",
       "      <th></th>\n",
       "      <th></th>\n",
       "      <th></th>\n",
       "      <th></th>\n",
       "      <th></th>\n",
       "    </tr>\n",
       "  </thead>\n",
       "  <tbody>\n",
       "    <tr>\n",
       "      <th>1</th>\n",
       "      <td>4.39</td>\n",
       "      <td>15</td>\n",
       "      <td>2.72</td>\n",
       "      <td>0.62</td>\n",
       "      <td>74.55</td>\n",
       "      <td>8.87</td>\n",
       "      <td>0.55</td>\n",
       "      <td>2.33</td>\n",
       "      <td>1.90</td>\n",
       "      <td>20.61</td>\n",
       "      <td>88910.72</td>\n",
       "      <td>2.23</td>\n",
       "      <td>21.49</td>\n",
       "      <td>0.38</td>\n",
       "      <td>0.29</td>\n",
       "    </tr>\n",
       "    <tr>\n",
       "      <th>2</th>\n",
       "      <td>14.65</td>\n",
       "      <td>16</td>\n",
       "      <td>3.08</td>\n",
       "      <td>0.21</td>\n",
       "      <td>78.46</td>\n",
       "      <td>8.11</td>\n",
       "      <td>0.22</td>\n",
       "      <td>1.04</td>\n",
       "      <td>1.06</td>\n",
       "      <td>29.89</td>\n",
       "      <td>155271.98</td>\n",
       "      <td>1.86</td>\n",
       "      <td>15.83</td>\n",
       "      <td>0.40</td>\n",
       "      <td>0.27</td>\n",
       "    </tr>\n",
       "    <tr>\n",
       "      <th>0</th>\n",
       "      <td>32.36</td>\n",
       "      <td>5</td>\n",
       "      <td>8.27</td>\n",
       "      <td>0.26</td>\n",
       "      <td>83.62</td>\n",
       "      <td>5.83</td>\n",
       "      <td>0.83</td>\n",
       "      <td>1.44</td>\n",
       "      <td>2.04</td>\n",
       "      <td>36.00</td>\n",
       "      <td>155515.48</td>\n",
       "      <td>1.68</td>\n",
       "      <td>15.92</td>\n",
       "      <td>0.41</td>\n",
       "      <td>0.24</td>\n",
       "    </tr>\n",
       "  </tbody>\n",
       "</table>\n",
       "</div>"
      ],
      "text/plain": [
       "                 Suicide_Rate  count_of_states  std_suicide_rate  \\\n",
       "Cluster_kmeans3                                                    \n",
       "1                        4.39               15              2.72   \n",
       "2                       14.65               16              3.08   \n",
       "0                       32.36                5              8.27   \n",
       "\n",
       "                 CV_suicide_rate  Total_lit_rate  Average_2019_Unemployment  \\\n",
       "Cluster_kmeans3                                                               \n",
       "1                           0.62           74.55                       8.87   \n",
       "2                           0.21           78.46                       8.11   \n",
       "0                           0.26           83.62                       5.83   \n",
       "\n",
       "                 QoW_sedatives  QoW_Opioids  Ganja  Alcohol_total_perc  \\\n",
       "Cluster_kmeans3                                                          \n",
       "1                         0.55         2.33   1.90               20.61   \n",
       "2                         0.22         1.04   1.06               29.89   \n",
       "0                         0.83         1.44   2.04               36.00   \n",
       "\n",
       "                 Percapita_NSDP_2019  TFR_2017  Perc_BPL  \\\n",
       "Cluster_kmeans3                                            \n",
       "1                           88910.72      2.23     21.49   \n",
       "2                          155271.98      1.86     15.83   \n",
       "0                          155515.48      1.68     15.92   \n",
       "\n",
       "                 Mean_Asset_Score_2016  Gini_Coefficient_2016  \n",
       "Cluster_kmeans3                                                \n",
       "1                                 0.38                   0.29  \n",
       "2                                 0.40                   0.27  \n",
       "0                                 0.41                   0.24  "
      ]
     },
     "execution_count": 111,
     "metadata": {},
     "output_type": "execute_result"
    }
   ],
   "source": [
    "clust_profile_3.sort_values(by='Suicide_Rate').round(2).to_excel(\"cluster_profile_kmeans3_suiciderate10times.xlsx\")\n",
    "clust_profile_3.sort_values(by='Suicide_Rate').round(2)"
   ]
  },
  {
   "cell_type": "code",
   "execution_count": 112,
   "metadata": {
    "ExecuteTime": {
     "end_time": "2021-08-21T12:15:08.674470Z",
     "start_time": "2021-08-21T12:15:04.807270Z"
    }
   },
   "outputs": [
    {
     "data": {
      "image/png": "[encoded data removed]",
      "text/plain": [
       "<Figure size 432x288 with 1 Axes>"
      ]
     },
     "metadata": {
      "needs_background": "light"
     },
     "output_type": "display_data"
    },
    {
     "data": {
      "image/png": "[encoded data removed]",
      "text/plain": [
       "<Figure size 432x288 with 1 Axes>"
      ]
     },
     "metadata": {
      "needs_background": "light"
     },
     "output_type": "display_data"
    },
    {
     "data": {
      "image/png": "[encoded data removed]",
      "text/plain": [
       "<Figure size 432x288 with 1 Axes>"
      ]
     },
     "metadata": {
      "needs_background": "light"
     },
     "output_type": "display_data"
    },
    {
     "data": {
      "image/png": "[encoded data removed]",
      "text/plain": [
       "<Figure size 432x288 with 1 Axes>"
      ]
     },
     "metadata": {
      "needs_background": "light"
     },
     "output_type": "display_data"
    },
    {
     "data": {
      "image/png": "[encoded data removed]",
      "text/plain": [
       "<Figure size 432x288 with 1 Axes>"
      ]
     },
     "metadata": {
      "needs_background": "light"
     },
     "output_type": "display_data"
    },
    {
     "data": {
      "image/png": "[encoded data removed]",
      "text/plain": [
       "<Figure size 432x288 with 1 Axes>"
      ]
     },
     "metadata": {
      "needs_background": "light"
     },
     "output_type": "display_data"
    },
    {
     "data": {
      "image/png": "[encoded data removed]",
      "text/plain": [
       "<Figure size 432x288 with 1 Axes>"
      ]
     },
     "metadata": {
      "needs_background": "light"
     },
     "output_type": "display_data"
    },
    {
     "data": {
      "image/png": "[encoded data removed]",
      "text/plain": [
       "<Figure size 432x288 with 1 Axes>"
      ]
     },
     "metadata": {
      "needs_background": "light"
     },
     "output_type": "display_data"
    },
    {
     "data": {
      "image/png": "[encoded data removed]",
      "text/plain": [
       "<Figure size 432x288 with 1 Axes>"
      ]
     },
     "metadata": {
      "needs_background": "light"
     },
     "output_type": "display_data"
    }
   ],
   "source": [
    "x_vars = ['Total_lit_rate', 'Average_2019_Unemployment', 'QoW_sedatives', 'Alcohol_total_perc', 'Percapita_NSDP_2019','TFR_2017', \n",
    "         'Perc_BPL','Mean_Asset_Score_2016','Gini_Coefficient_2016']\n",
    "\n",
    "for i in x_vars:\n",
    "    sns.scatterplot(data=master, x=i, y='Suicide_Rate', hue='Cluster_kmeans3')\n",
    "    plt.show()"
   ]
  },
  {
   "cell_type": "code",
   "execution_count": 113,
   "metadata": {
    "ExecuteTime": {
     "end_time": "2021-08-21T12:15:08.689596Z",
     "start_time": "2021-08-21T12:15:08.680514Z"
    }
   },
   "outputs": [
    {
     "data": {
      "text/plain": [
       "Index(['Suicide_Rate', 'Total_lit_rate', 'Average_2019_Unemployment',\n",
       "       'QoW_sedatives', 'QoW_Opioids', 'Ganja', 'Alcohol_total_perc',\n",
       "       'Percapita_NSDP_2019', 'TFR_2017', 'Perc_BPL', 'Mean_Asset_Score_2016',\n",
       "       'Gini_Coefficient_2016', 'Cluster_kmeans2', 'Cluster_kmeans3',\n",
       "       'Cluster_kmeans4', 'Total_Suicides', 'State_population'],\n",
       "      dtype='object')"
      ]
     },
     "execution_count": 113,
     "metadata": {},
     "output_type": "execute_result"
    }
   ],
   "source": [
    "master.columns"
   ]
  },
  {
   "cell_type": "markdown",
   "metadata": {
    "ExecuteTime": {
     "end_time": "2021-06-28T10:27:59.334661Z",
     "start_time": "2021-06-28T10:27:59.323622Z"
    }
   },
   "source": [
    "### Visualizing clusters"
   ]
  },
  {
   "cell_type": "code",
   "execution_count": 114,
   "metadata": {
    "ExecuteTime": {
     "end_time": "2021-08-21T12:15:09.068603Z",
     "start_time": "2021-08-21T12:15:08.694449Z"
    }
   },
   "outputs": [
    {
     "data": {
      "image/png": "[encoded data removed]",
      "text/plain": [
       "<Figure size 432x288 with 1 Axes>"
      ]
     },
     "metadata": {
      "needs_background": "light"
     },
     "output_type": "display_data"
    }
   ],
   "source": [
    "#filter rows of original data\n",
    "filtered_cluster1 = master[master['Cluster_kmeans3'] == 0]\n",
    "\n",
    "filtered_cluster2 = master[master['Cluster_kmeans3'] == 1]\n",
    "\n",
    "filtered_cluster3 = master[master['Cluster_kmeans3'] == 2]\n",
    "\n",
    "#Plotting the results\n",
    "sns.scatterplot(x=filtered_cluster1.Suicide_Rate , y=filtered_cluster1.Alcohol_total_perc , color = 'red')\n",
    "sns.scatterplot(x=filtered_cluster2.Suicide_Rate , y=filtered_cluster2.Alcohol_total_perc, color = 'green')\n",
    "sns.scatterplot(x=filtered_cluster3.Suicide_Rate , y=filtered_cluster3.Alcohol_total_perc, color = 'orange')\n",
    "plt.title(\"Clusters by Alcohol consumption\")\n",
    "plt.show()\n",
    "\n"
   ]
  },
  {
   "cell_type": "code",
   "execution_count": 115,
   "metadata": {
    "ExecuteTime": {
     "end_time": "2021-08-21T12:15:09.461428Z",
     "start_time": "2021-08-21T12:15:09.072119Z"
    }
   },
   "outputs": [
    {
     "data": {
      "image/png": "[encoded data removed]",
      "text/plain": [
       "<Figure size 432x288 with 1 Axes>"
      ]
     },
     "metadata": {
      "needs_background": "light"
     },
     "output_type": "display_data"
    }
   ],
   "source": [
    "#Plotting the results\n",
    "sns.scatterplot(x=filtered_cluster1.Suicide_Rate , y=filtered_cluster1.TFR_2017 , color = 'red')\n",
    "sns.scatterplot(x=filtered_cluster2.Suicide_Rate , y=filtered_cluster2.TFR_2017, color = 'green')\n",
    "sns.scatterplot(x=filtered_cluster3.Suicide_Rate , y=filtered_cluster3.TFR_2017, color = 'orange')\n",
    "plt.title(\"Clusters by TFR\")\n",
    "plt.show()\n"
   ]
  },
  {
   "cell_type": "code",
   "execution_count": 116,
   "metadata": {
    "ExecuteTime": {
     "end_time": "2021-08-21T12:15:09.853881Z",
     "start_time": "2021-08-21T12:15:09.465505Z"
    }
   },
   "outputs": [
    {
     "data": {
      "image/png": "[encoded data removed]",
      "text/plain": [
       "<Figure size 432x288 with 1 Axes>"
      ]
     },
     "metadata": {
      "needs_background": "light"
     },
     "output_type": "display_data"
    }
   ],
   "source": [
    "#Plotting the results\n",
    "sns.scatterplot(x=filtered_cluster1.Suicide_Rate , y=filtered_cluster1.Gini_Coefficient_2016 , color = 'red')\n",
    "sns.scatterplot(x=filtered_cluster2.Suicide_Rate , y=filtered_cluster2.Gini_Coefficient_2016, color = 'green')\n",
    "sns.scatterplot(x=filtered_cluster3.Suicide_Rate , y=filtered_cluster3.Gini_Coefficient_2016, color = 'orange')\n",
    "plt.title(\"Clusters by Gini Coefficient\")\n",
    "plt.show()\n"
   ]
  },
  {
   "cell_type": "code",
   "execution_count": 117,
   "metadata": {
    "ExecuteTime": {
     "end_time": "2021-08-21T12:15:10.263213Z",
     "start_time": "2021-08-21T12:15:09.856881Z"
    }
   },
   "outputs": [
    {
     "data": {
      "image/png": "[encoded data removed]",
      "text/plain": [
       "<Figure size 432x288 with 1 Axes>"
      ]
     },
     "metadata": {
      "needs_background": "light"
     },
     "output_type": "display_data"
    }
   ],
   "source": [
    "#Plotting the results\n",
    "sns.scatterplot(x=filtered_cluster1.Suicide_Rate , y=filtered_cluster1.Percapita_NSDP_2019 , color = 'red')\n",
    "sns.scatterplot(x=filtered_cluster2.Suicide_Rate , y=filtered_cluster2.Percapita_NSDP_2019, color = 'green')\n",
    "sns.scatterplot(x=filtered_cluster3.Suicide_Rate , y=filtered_cluster3.Percapita_NSDP_2019, color = 'orange')\n",
    "plt.title(\"Clusters by Per capita NSDP\")\n",
    "plt.show()"
   ]
  },
  {
   "cell_type": "code",
   "execution_count": 118,
   "metadata": {
    "ExecuteTime": {
     "end_time": "2021-08-21T12:15:10.294260Z",
     "start_time": "2021-08-21T12:15:10.268101Z"
    }
   },
   "outputs": [
    {
     "data": {
      "text/plain": [
       "State_UT\n",
       "CHHATTISGARH     26.4\n",
       "KERALA           24.3\n",
       "SIKKIM           33.1\n",
       "A & N ISLANDS    45.5\n",
       "PUDUCHERRY       32.5\n",
       "Name: Suicide_Rate, dtype: float64"
      ]
     },
     "execution_count": 118,
     "metadata": {},
     "output_type": "execute_result"
    }
   ],
   "source": [
    "master[master['Cluster_kmeans3'] == 0]['Suicide_Rate']"
   ]
  },
  {
   "cell_type": "code",
   "execution_count": null,
   "metadata": {},
   "outputs": [],
   "source": []
  }
 ],
 "metadata": {
  "kernelspec": {
   "display_name": "Python 3",
   "language": "python",
   "name": "python3"
  },
  "language_info": {
   "codemirror_mode": {
    "name": "ipython",
    "version": 3
   },
   "file_extension": ".py",
   "mimetype": "text/x-python",
   "name": "python",
   "nbconvert_exporter": "python",
   "pygments_lexer": "ipython3",
   "version": "3.8.5"
  },
  "toc": {
   "base_numbering": 1,
   "nav_menu": {},
   "number_sections": true,
   "sideBar": true,
   "skip_h1_title": false,
   "title_cell": "Table of Contents",
   "title_sidebar": "Contents",
   "toc_cell": false,
   "toc_position": {},
   "toc_section_display": true,
   "toc_window_display": true
  }
 },
 "nbformat": 4,
 "nbformat_minor": 4
}
